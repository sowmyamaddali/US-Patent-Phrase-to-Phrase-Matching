{
 "cells": [
  {
   "cell_type": "code",
   "execution_count": 1,
   "id": "1ce1a63b",
   "metadata": {
    "_cell_guid": "b1076dfc-b9ad-4769-8c92-a6c4dae69d19",
    "_uuid": "8f2839f25d086af736a60e9eeb907d3b93b6e0e5",
    "execution": {
     "iopub.execute_input": "2024-04-23T01:47:45.738598Z",
     "iopub.status.busy": "2024-04-23T01:47:45.738261Z",
     "iopub.status.idle": "2024-04-23T01:47:47.098983Z",
     "shell.execute_reply": "2024-04-23T01:47:47.097569Z"
    },
    "papermill": {
     "duration": 1.376743,
     "end_time": "2024-04-23T01:47:47.101229",
     "exception": false,
     "start_time": "2024-04-23T01:47:45.724486",
     "status": "completed"
    },
    "tags": []
   },
   "outputs": [
    {
     "name": "stdout",
     "output_type": "stream",
     "text": [
      "/kaggle/input/us-patent-phrase-to-phrase-matching/sample_submission.csv\n",
      "/kaggle/input/us-patent-phrase-to-phrase-matching/train.csv\n",
      "/kaggle/input/us-patent-phrase-to-phrase-matching/test.csv\n"
     ]
    }
   ],
   "source": [
    "# This Python 3 environment comes with many helpful analytics libraries installed\n",
    "# It is defined by the kaggle/python Docker image: https://github.com/kaggle/docker-python\n",
    "# For example, here's several helpful packages to load\n",
    "\n",
    "import numpy as np # linear algebra\n",
    "import pandas as pd # data processing, CSV file I/O (e.g. pd.read_csv)\n",
    "\n",
    "# Input data files are available in the read-only \"../input/\" directory\n",
    "# For example, running this (by clicking run or pressing Shift+Enter) will list all files under the input directory\n",
    "\n",
    "import os\n",
    "for dirname, _, filenames in os.walk('/kaggle/input'):\n",
    "    for filename in filenames:\n",
    "        print(os.path.join(dirname, filename))\n",
    "\n",
    "# You can write up to 20GB to the current directory (/kaggle/working/) that gets preserved as output when you create a version using \"Save & Run All\" \n",
    "# You can also write temporary files to /kaggle/temp/, but they won't be saved outside of the current session"
   ]
  },
  {
   "cell_type": "markdown",
   "id": "ec359dd0",
   "metadata": {
    "papermill": {
     "duration": 0.011784,
     "end_time": "2024-04-23T01:47:47.125024",
     "exception": false,
     "start_time": "2024-04-23T01:47:47.113240",
     "status": "completed"
    },
    "tags": []
   },
   "source": [
    "## Reading the train set"
   ]
  },
  {
   "cell_type": "code",
   "execution_count": 2,
   "id": "7c6cfa2a",
   "metadata": {
    "execution": {
     "iopub.execute_input": "2024-04-23T01:47:47.150094Z",
     "iopub.status.busy": "2024-04-23T01:47:47.149646Z",
     "iopub.status.idle": "2024-04-23T01:47:47.308809Z",
     "shell.execute_reply": "2024-04-23T01:47:47.307833Z"
    },
    "papermill": {
     "duration": 0.174371,
     "end_time": "2024-04-23T01:47:47.311223",
     "exception": false,
     "start_time": "2024-04-23T01:47:47.136852",
     "status": "completed"
    },
    "tags": []
   },
   "outputs": [
    {
     "data": {
      "text/html": [
       "<div>\n",
       "<style scoped>\n",
       "    .dataframe tbody tr th:only-of-type {\n",
       "        vertical-align: middle;\n",
       "    }\n",
       "\n",
       "    .dataframe tbody tr th {\n",
       "        vertical-align: top;\n",
       "    }\n",
       "\n",
       "    .dataframe thead th {\n",
       "        text-align: right;\n",
       "    }\n",
       "</style>\n",
       "<table border=\"1\" class=\"dataframe\">\n",
       "  <thead>\n",
       "    <tr style=\"text-align: right;\">\n",
       "      <th></th>\n",
       "      <th>id</th>\n",
       "      <th>anchor</th>\n",
       "      <th>target</th>\n",
       "      <th>context</th>\n",
       "      <th>score</th>\n",
       "    </tr>\n",
       "  </thead>\n",
       "  <tbody>\n",
       "    <tr>\n",
       "      <th>0</th>\n",
       "      <td>37d61fd2272659b1</td>\n",
       "      <td>abatement</td>\n",
       "      <td>abatement of pollution</td>\n",
       "      <td>A47</td>\n",
       "      <td>0.50</td>\n",
       "    </tr>\n",
       "    <tr>\n",
       "      <th>1</th>\n",
       "      <td>7b9652b17b68b7a4</td>\n",
       "      <td>abatement</td>\n",
       "      <td>act of abating</td>\n",
       "      <td>A47</td>\n",
       "      <td>0.75</td>\n",
       "    </tr>\n",
       "    <tr>\n",
       "      <th>2</th>\n",
       "      <td>36d72442aefd8232</td>\n",
       "      <td>abatement</td>\n",
       "      <td>active catalyst</td>\n",
       "      <td>A47</td>\n",
       "      <td>0.25</td>\n",
       "    </tr>\n",
       "    <tr>\n",
       "      <th>3</th>\n",
       "      <td>5296b0c19e1ce60e</td>\n",
       "      <td>abatement</td>\n",
       "      <td>eliminating process</td>\n",
       "      <td>A47</td>\n",
       "      <td>0.50</td>\n",
       "    </tr>\n",
       "    <tr>\n",
       "      <th>4</th>\n",
       "      <td>54c1e3b9184cb5b6</td>\n",
       "      <td>abatement</td>\n",
       "      <td>forest region</td>\n",
       "      <td>A47</td>\n",
       "      <td>0.00</td>\n",
       "    </tr>\n",
       "  </tbody>\n",
       "</table>\n",
       "</div>"
      ],
      "text/plain": [
       "                 id     anchor                  target context  score\n",
       "0  37d61fd2272659b1  abatement  abatement of pollution     A47   0.50\n",
       "1  7b9652b17b68b7a4  abatement          act of abating     A47   0.75\n",
       "2  36d72442aefd8232  abatement         active catalyst     A47   0.25\n",
       "3  5296b0c19e1ce60e  abatement     eliminating process     A47   0.50\n",
       "4  54c1e3b9184cb5b6  abatement           forest region     A47   0.00"
      ]
     },
     "execution_count": 2,
     "metadata": {},
     "output_type": "execute_result"
    }
   ],
   "source": [
    "df = pd.read_csv('/kaggle/input/us-patent-phrase-to-phrase-matching/train.csv')\n",
    "df.head()"
   ]
  },
  {
   "cell_type": "code",
   "execution_count": 3,
   "id": "aad526e4",
   "metadata": {
    "execution": {
     "iopub.execute_input": "2024-04-23T01:47:47.341425Z",
     "iopub.status.busy": "2024-04-23T01:47:47.341148Z",
     "iopub.status.idle": "2024-04-23T01:47:47.431938Z",
     "shell.execute_reply": "2024-04-23T01:47:47.431068Z"
    },
    "papermill": {
     "duration": 0.109045,
     "end_time": "2024-04-23T01:47:47.433881",
     "exception": false,
     "start_time": "2024-04-23T01:47:47.324836",
     "status": "completed"
    },
    "tags": []
   },
   "outputs": [
    {
     "data": {
      "text/html": [
       "<div>\n",
       "<style scoped>\n",
       "    .dataframe tbody tr th:only-of-type {\n",
       "        vertical-align: middle;\n",
       "    }\n",
       "\n",
       "    .dataframe tbody tr th {\n",
       "        vertical-align: top;\n",
       "    }\n",
       "\n",
       "    .dataframe thead th {\n",
       "        text-align: right;\n",
       "    }\n",
       "</style>\n",
       "<table border=\"1\" class=\"dataframe\">\n",
       "  <thead>\n",
       "    <tr style=\"text-align: right;\">\n",
       "      <th></th>\n",
       "      <th>id</th>\n",
       "      <th>anchor</th>\n",
       "      <th>target</th>\n",
       "      <th>context</th>\n",
       "    </tr>\n",
       "  </thead>\n",
       "  <tbody>\n",
       "    <tr>\n",
       "      <th>count</th>\n",
       "      <td>36473</td>\n",
       "      <td>36473</td>\n",
       "      <td>36473</td>\n",
       "      <td>36473</td>\n",
       "    </tr>\n",
       "    <tr>\n",
       "      <th>unique</th>\n",
       "      <td>36473</td>\n",
       "      <td>733</td>\n",
       "      <td>29340</td>\n",
       "      <td>106</td>\n",
       "    </tr>\n",
       "    <tr>\n",
       "      <th>top</th>\n",
       "      <td>8d135da0b55b8c88</td>\n",
       "      <td>component composite coating</td>\n",
       "      <td>composition</td>\n",
       "      <td>H01</td>\n",
       "    </tr>\n",
       "    <tr>\n",
       "      <th>freq</th>\n",
       "      <td>1</td>\n",
       "      <td>152</td>\n",
       "      <td>24</td>\n",
       "      <td>2186</td>\n",
       "    </tr>\n",
       "  </tbody>\n",
       "</table>\n",
       "</div>"
      ],
      "text/plain": [
       "                      id                       anchor       target context\n",
       "count              36473                        36473        36473   36473\n",
       "unique             36473                          733        29340     106\n",
       "top     8d135da0b55b8c88  component composite coating  composition     H01\n",
       "freq                   1                          152           24    2186"
      ]
     },
     "execution_count": 3,
     "metadata": {},
     "output_type": "execute_result"
    }
   ],
   "source": [
    "df.describe(include='object')"
   ]
  },
  {
   "cell_type": "markdown",
   "id": "8d97b9a5",
   "metadata": {
    "papermill": {
     "duration": 0.011877,
     "end_time": "2024-04-23T01:47:47.457773",
     "exception": false,
     "start_time": "2024-04-23T01:47:47.445896",
     "status": "completed"
    },
    "tags": []
   },
   "source": [
    "It can be seen that there are 36,473 rows, out of whcih 733 unique anchors are present, 106 unique contexts, and 29,340 targets. Some anchors are very common, with \"component composite coating\" for instance appearing 152 times."
   ]
  },
  {
   "cell_type": "code",
   "execution_count": 4,
   "id": "babf3686",
   "metadata": {
    "execution": {
     "iopub.execute_input": "2024-04-23T01:47:47.483036Z",
     "iopub.status.busy": "2024-04-23T01:47:47.482745Z",
     "iopub.status.idle": "2024-04-23T01:47:47.509374Z",
     "shell.execute_reply": "2024-04-23T01:47:47.508682Z"
    },
    "papermill": {
     "duration": 0.041687,
     "end_time": "2024-04-23T01:47:47.511390",
     "exception": false,
     "start_time": "2024-04-23T01:47:47.469703",
     "status": "completed"
    },
    "tags": []
   },
   "outputs": [],
   "source": [
    "df['input'] = 'TEXT1: ' + df.context + '; TEXT2: ' + df.target + '; ANC1: ' + df.anchor"
   ]
  },
  {
   "cell_type": "code",
   "execution_count": 5,
   "id": "fd683279",
   "metadata": {
    "execution": {
     "iopub.execute_input": "2024-04-23T01:47:47.537858Z",
     "iopub.status.busy": "2024-04-23T01:47:47.537363Z",
     "iopub.status.idle": "2024-04-23T01:47:47.543999Z",
     "shell.execute_reply": "2024-04-23T01:47:47.543089Z"
    },
    "papermill": {
     "duration": 0.021977,
     "end_time": "2024-04-23T01:47:47.546048",
     "exception": false,
     "start_time": "2024-04-23T01:47:47.524071",
     "status": "completed"
    },
    "tags": []
   },
   "outputs": [
    {
     "data": {
      "text/plain": [
       "0    TEXT1: A47; TEXT2: abatement of pollution; ANC...\n",
       "1    TEXT1: A47; TEXT2: act of abating; ANC1: abate...\n",
       "2    TEXT1: A47; TEXT2: active catalyst; ANC1: abat...\n",
       "3    TEXT1: A47; TEXT2: eliminating process; ANC1: ...\n",
       "4    TEXT1: A47; TEXT2: forest region; ANC1: abatement\n",
       "Name: input, dtype: object"
      ]
     },
     "execution_count": 5,
     "metadata": {},
     "output_type": "execute_result"
    }
   ],
   "source": [
    "df.input.head()"
   ]
  },
  {
   "cell_type": "markdown",
   "id": "9fa4d8ed",
   "metadata": {
    "papermill": {
     "duration": 0.012076,
     "end_time": "2024-04-23T01:47:47.570748",
     "exception": false,
     "start_time": "2024-04-23T01:47:47.558672",
     "status": "completed"
    },
    "tags": []
   },
   "source": [
    "## Tokenization\n",
    "Transformers uses a `dataset` object for sorting a dataset."
   ]
  },
  {
   "cell_type": "code",
   "execution_count": 6,
   "id": "bb668e8e",
   "metadata": {
    "execution": {
     "iopub.execute_input": "2024-04-23T01:47:47.596116Z",
     "iopub.status.busy": "2024-04-23T01:47:47.595878Z",
     "iopub.status.idle": "2024-04-23T01:47:49.061939Z",
     "shell.execute_reply": "2024-04-23T01:47:49.060890Z"
    },
    "papermill": {
     "duration": 1.481038,
     "end_time": "2024-04-23T01:47:49.063989",
     "exception": false,
     "start_time": "2024-04-23T01:47:47.582951",
     "status": "completed"
    },
    "tags": []
   },
   "outputs": [
    {
     "name": "stdout",
     "output_type": "stream",
     "text": [
      "Dataset({\n",
      "    features: ['id', 'anchor', 'target', 'context', 'score', 'input'],\n",
      "    num_rows: 36473\n",
      "})\n"
     ]
    }
   ],
   "source": [
    "from datasets import Dataset,DatasetDict\n",
    "\n",
    "ds = Dataset.from_pandas(df)\n",
    "print(ds)"
   ]
  },
  {
   "cell_type": "markdown",
   "id": "334857f6",
   "metadata": {
    "papermill": {
     "duration": 0.012024,
     "end_time": "2024-04-23T01:47:49.088801",
     "exception": false,
     "start_time": "2024-04-23T01:47:49.076777",
     "status": "completed"
    },
    "tags": []
   },
   "source": [
    "We cannot pass texts directly into the model. A deep learning model expects numbers as inputs, not English sentences. So we need to do the following -\n",
    "1. Tokenization: Split each text up into words (or tokens)\n",
    "2. Numericalization: Convert each word (or token) into a number"
   ]
  },
  {
   "cell_type": "code",
   "execution_count": 7,
   "id": "f05bdecb",
   "metadata": {
    "execution": {
     "iopub.execute_input": "2024-04-23T01:47:49.116904Z",
     "iopub.status.busy": "2024-04-23T01:47:49.115943Z",
     "iopub.status.idle": "2024-04-23T01:47:49.120342Z",
     "shell.execute_reply": "2024-04-23T01:47:49.119552Z"
    },
    "papermill": {
     "duration": 0.020264,
     "end_time": "2024-04-23T01:47:49.122413",
     "exception": false,
     "start_time": "2024-04-23T01:47:49.102149",
     "status": "completed"
    },
    "tags": []
   },
   "outputs": [],
   "source": [
    "model_nm = 'microsoft/deberta-v3-small'"
   ]
  },
  {
   "cell_type": "markdown",
   "id": "c8807626",
   "metadata": {
    "papermill": {
     "duration": 0.012792,
     "end_time": "2024-04-23T01:47:49.148481",
     "exception": false,
     "start_time": "2024-04-23T01:47:49.135689",
     "status": "completed"
    },
    "tags": []
   },
   "source": [
    "`AutoTokenizer` will create a tokenizer appropriate for a given model -"
   ]
  },
  {
   "cell_type": "code",
   "execution_count": 8,
   "id": "4d769540",
   "metadata": {
    "execution": {
     "iopub.execute_input": "2024-04-23T01:47:49.175781Z",
     "iopub.status.busy": "2024-04-23T01:47:49.175472Z",
     "iopub.status.idle": "2024-04-23T01:48:01.523334Z",
     "shell.execute_reply": "2024-04-23T01:48:01.522176Z"
    },
    "papermill": {
     "duration": 12.363831,
     "end_time": "2024-04-23T01:48:01.525569",
     "exception": false,
     "start_time": "2024-04-23T01:47:49.161738",
     "status": "completed"
    },
    "tags": []
   },
   "outputs": [
    {
     "data": {
      "application/vnd.jupyter.widget-view+json": {
       "model_id": "737fd1cbc0df4861aeacfd30b761a4b2",
       "version_major": 2,
       "version_minor": 0
      },
      "text/plain": [
       "tokenizer_config.json:   0%|          | 0.00/52.0 [00:00<?, ?B/s]"
      ]
     },
     "metadata": {},
     "output_type": "display_data"
    },
    {
     "data": {
      "application/vnd.jupyter.widget-view+json": {
       "model_id": "ac30c8dc33884941b1c5000f1dff78c0",
       "version_major": 2,
       "version_minor": 0
      },
      "text/plain": [
       "config.json:   0%|          | 0.00/578 [00:00<?, ?B/s]"
      ]
     },
     "metadata": {},
     "output_type": "display_data"
    },
    {
     "data": {
      "application/vnd.jupyter.widget-view+json": {
       "model_id": "4b9a27c48b9e4a60b9b8d406bc8d3ebd",
       "version_major": 2,
       "version_minor": 0
      },
      "text/plain": [
       "spm.model:   0%|          | 0.00/2.46M [00:00<?, ?B/s]"
      ]
     },
     "metadata": {},
     "output_type": "display_data"
    },
    {
     "name": "stderr",
     "output_type": "stream",
     "text": [
      "/opt/conda/lib/python3.10/site-packages/transformers/convert_slow_tokenizer.py:550: UserWarning: The sentencepiece tokenizer that you are converting to a fast tokenizer uses the byte fallback option which is not implemented in the fast tokenizers. In practice this means that the fast version of the tokenizer can produce unknown tokens whereas the sentencepiece version would have converted these unknown tokens into a sequence of byte tokens matching the original piece of text.\n",
      "  warnings.warn(\n"
     ]
    }
   ],
   "source": [
    "from transformers import AutoModelForSequenceClassification,AutoTokenizer\n",
    "tokz = AutoTokenizer.from_pretrained(model_nm)"
   ]
  },
  {
   "cell_type": "code",
   "execution_count": 9,
   "id": "efa775c5",
   "metadata": {
    "execution": {
     "iopub.execute_input": "2024-04-23T01:48:01.553744Z",
     "iopub.status.busy": "2024-04-23T01:48:01.553264Z",
     "iopub.status.idle": "2024-04-23T01:48:01.560325Z",
     "shell.execute_reply": "2024-04-23T01:48:01.559502Z"
    },
    "papermill": {
     "duration": 0.023105,
     "end_time": "2024-04-23T01:48:01.562241",
     "exception": false,
     "start_time": "2024-04-23T01:48:01.539136",
     "status": "completed"
    },
    "tags": []
   },
   "outputs": [
    {
     "data": {
      "text/plain": [
       "['▁G',\n",
       " \"'\",\n",
       " 'day',\n",
       " '▁folks',\n",
       " ',',\n",
       " '▁I',\n",
       " \"'\",\n",
       " 'm',\n",
       " '▁Jeremy',\n",
       " '▁from',\n",
       " '▁fast',\n",
       " '.',\n",
       " 'ai',\n",
       " '!']"
      ]
     },
     "execution_count": 9,
     "metadata": {},
     "output_type": "execute_result"
    }
   ],
   "source": [
    "'''\n",
    "Example of how the tokenizer splits a text into\n",
    "'tokens' (which are like words, but can be sub-word pieces,\n",
    "as shown below):\n",
    "'''\n",
    "\n",
    "tokz.tokenize(\"G'day folks, I'm Jeremy from fast.ai!\")"
   ]
  },
  {
   "cell_type": "markdown",
   "id": "50077a7a",
   "metadata": {
    "papermill": {
     "duration": 0.013418,
     "end_time": "2024-04-23T01:48:01.589021",
     "exception": false,
     "start_time": "2024-04-23T01:48:01.575603",
     "status": "completed"
    },
    "tags": []
   },
   "source": [
    "Uncommon words will be split into pieces. The start of a new world is represented by `_`"
   ]
  },
  {
   "cell_type": "code",
   "execution_count": 10,
   "id": "543bc532",
   "metadata": {
    "execution": {
     "iopub.execute_input": "2024-04-23T01:48:01.617602Z",
     "iopub.status.busy": "2024-04-23T01:48:01.617328Z",
     "iopub.status.idle": "2024-04-23T01:48:01.623488Z",
     "shell.execute_reply": "2024-04-23T01:48:01.622684Z"
    },
    "papermill": {
     "duration": 0.022928,
     "end_time": "2024-04-23T01:48:01.625506",
     "exception": false,
     "start_time": "2024-04-23T01:48:01.602578",
     "status": "completed"
    },
    "tags": []
   },
   "outputs": [
    {
     "data": {
      "text/plain": [
       "['▁A',\n",
       " '▁platypus',\n",
       " '▁is',\n",
       " '▁an',\n",
       " '▁or',\n",
       " 'ni',\n",
       " 'tho',\n",
       " 'rhynch',\n",
       " 'us',\n",
       " '▁an',\n",
       " 'at',\n",
       " 'inus',\n",
       " '.']"
      ]
     },
     "execution_count": 10,
     "metadata": {},
     "output_type": "execute_result"
    }
   ],
   "source": [
    "# Another example\n",
    "\n",
    "tokz.tokenize(\"A platypus is an ornithorhynchus anatinus.\")"
   ]
  },
  {
   "cell_type": "code",
   "execution_count": 11,
   "id": "636a90bf",
   "metadata": {
    "execution": {
     "iopub.execute_input": "2024-04-23T01:48:01.653922Z",
     "iopub.status.busy": "2024-04-23T01:48:01.653167Z",
     "iopub.status.idle": "2024-04-23T01:48:03.535692Z",
     "shell.execute_reply": "2024-04-23T01:48:03.534962Z"
    },
    "papermill": {
     "duration": 1.898311,
     "end_time": "2024-04-23T01:48:03.537529",
     "exception": false,
     "start_time": "2024-04-23T01:48:01.639218",
     "status": "completed"
    },
    "tags": []
   },
   "outputs": [
    {
     "data": {
      "application/vnd.jupyter.widget-view+json": {
       "model_id": "5de8d6f7fceb4d189bde2d28674a6220",
       "version_major": 2,
       "version_minor": 0
      },
      "text/plain": [
       "Map:   0%|          | 0/36473 [00:00<?, ? examples/s]"
      ]
     },
     "metadata": {},
     "output_type": "display_data"
    }
   ],
   "source": [
    "# Function which tokenizes the inputs\n",
    "def tok_func(x):\n",
    "    return tokz(x[\"input\"])\n",
    "\n",
    "# To run this quickly in parallel on every row in our dataset, use `map`\n",
    "tok_ds = ds.map(tok_func, batched=True)"
   ]
  },
  {
   "cell_type": "markdown",
   "id": "560b4fdf",
   "metadata": {
    "papermill": {
     "duration": 0.01312,
     "end_time": "2024-04-23T01:48:03.564833",
     "exception": false,
     "start_time": "2024-04-23T01:48:03.551713",
     "status": "completed"
    },
    "tags": []
   },
   "source": [
    "This adds a new item to our dataset called `input_ids`. For instance here is the input and IDs for the first row of our data."
   ]
  },
  {
   "cell_type": "code",
   "execution_count": 12,
   "id": "3ed3e976",
   "metadata": {
    "execution": {
     "iopub.execute_input": "2024-04-23T01:48:03.592822Z",
     "iopub.status.busy": "2024-04-23T01:48:03.592375Z",
     "iopub.status.idle": "2024-04-23T01:48:03.601444Z",
     "shell.execute_reply": "2024-04-23T01:48:03.600611Z"
    },
    "papermill": {
     "duration": 0.025281,
     "end_time": "2024-04-23T01:48:03.603381",
     "exception": false,
     "start_time": "2024-04-23T01:48:03.578100",
     "status": "completed"
    },
    "tags": []
   },
   "outputs": [
    {
     "data": {
      "text/plain": [
       "('TEXT1: A47; TEXT2: abatement of pollution; ANC1: abatement',\n",
       " [1,\n",
       "  54453,\n",
       "  435,\n",
       "  294,\n",
       "  336,\n",
       "  5753,\n",
       "  346,\n",
       "  54453,\n",
       "  445,\n",
       "  294,\n",
       "  47284,\n",
       "  265,\n",
       "  6435,\n",
       "  346,\n",
       "  23702,\n",
       "  435,\n",
       "  294,\n",
       "  47284,\n",
       "  2])"
      ]
     },
     "execution_count": 12,
     "metadata": {},
     "output_type": "execute_result"
    }
   ],
   "source": [
    "row = tok_ds[0]\n",
    "row['input'], row['input_ids']"
   ]
  },
  {
   "cell_type": "markdown",
   "id": "2de70e9f",
   "metadata": {
    "papermill": {
     "duration": 0.013093,
     "end_time": "2024-04-23T01:48:03.629704",
     "exception": false,
     "start_time": "2024-04-23T01:48:03.616611",
     "status": "completed"
    },
    "tags": []
   },
   "source": [
    "So, what are those IDs and where do they come from? The secret is that there's a list called `vocab` in the tokenizer which contains a unique integer for every possible token string. We can look up like this, for instance to find the token for the word \"of\" -"
   ]
  },
  {
   "cell_type": "code",
   "execution_count": 13,
   "id": "1e6f11ab",
   "metadata": {
    "execution": {
     "iopub.execute_input": "2024-04-23T01:48:03.658193Z",
     "iopub.status.busy": "2024-04-23T01:48:03.657502Z",
     "iopub.status.idle": "2024-04-23T01:48:03.749451Z",
     "shell.execute_reply": "2024-04-23T01:48:03.748663Z"
    },
    "papermill": {
     "duration": 0.108449,
     "end_time": "2024-04-23T01:48:03.751476",
     "exception": false,
     "start_time": "2024-04-23T01:48:03.643027",
     "status": "completed"
    },
    "tags": []
   },
   "outputs": [
    {
     "data": {
      "text/plain": [
       "265"
      ]
     },
     "execution_count": 13,
     "metadata": {},
     "output_type": "execute_result"
    }
   ],
   "source": [
    "tokz.vocab['▁of']"
   ]
  },
  {
   "cell_type": "markdown",
   "id": "c87ec942",
   "metadata": {
    "papermill": {
     "duration": 0.013718,
     "end_time": "2024-04-23T01:48:03.779587",
     "exception": false,
     "start_time": "2024-04-23T01:48:03.765869",
     "status": "completed"
    },
    "tags": []
   },
   "source": [
    "Finally, we need to prepare our labels. Transforms always assumes that your labels has the column name `labels`, but in our dataset it's currently `score`. Therefore, we need to rename it -"
   ]
  },
  {
   "cell_type": "code",
   "execution_count": 14,
   "id": "6381e790",
   "metadata": {
    "execution": {
     "iopub.execute_input": "2024-04-23T01:48:03.848128Z",
     "iopub.status.busy": "2024-04-23T01:48:03.847194Z",
     "iopub.status.idle": "2024-04-23T01:48:03.853768Z",
     "shell.execute_reply": "2024-04-23T01:48:03.853002Z"
    },
    "papermill": {
     "duration": 0.023822,
     "end_time": "2024-04-23T01:48:03.855661",
     "exception": false,
     "start_time": "2024-04-23T01:48:03.831839",
     "status": "completed"
    },
    "tags": []
   },
   "outputs": [],
   "source": [
    "tok_ds = tok_ds.rename_columns({'score':'labels'})"
   ]
  },
  {
   "cell_type": "markdown",
   "id": "b7eca1e1",
   "metadata": {
    "papermill": {
     "duration": 0.013594,
     "end_time": "2024-04-23T01:48:03.882681",
     "exception": false,
     "start_time": "2024-04-23T01:48:03.869087",
     "status": "completed"
    },
    "tags": []
   },
   "source": [
    "## Creating a validation set"
   ]
  },
  {
   "cell_type": "code",
   "execution_count": 15,
   "id": "e5036231",
   "metadata": {
    "execution": {
     "iopub.execute_input": "2024-04-23T01:48:03.910506Z",
     "iopub.status.busy": "2024-04-23T01:48:03.910231Z",
     "iopub.status.idle": "2024-04-23T01:48:03.932598Z",
     "shell.execute_reply": "2024-04-23T01:48:03.931773Z"
    },
    "papermill": {
     "duration": 0.038421,
     "end_time": "2024-04-23T01:48:03.934546",
     "exception": false,
     "start_time": "2024-04-23T01:48:03.896125",
     "status": "completed"
    },
    "tags": []
   },
   "outputs": [
    {
     "data": {
      "text/html": [
       "<div>\n",
       "<style scoped>\n",
       "    .dataframe tbody tr th:only-of-type {\n",
       "        vertical-align: middle;\n",
       "    }\n",
       "\n",
       "    .dataframe tbody tr th {\n",
       "        vertical-align: top;\n",
       "    }\n",
       "\n",
       "    .dataframe thead th {\n",
       "        text-align: right;\n",
       "    }\n",
       "</style>\n",
       "<table border=\"1\" class=\"dataframe\">\n",
       "  <thead>\n",
       "    <tr style=\"text-align: right;\">\n",
       "      <th></th>\n",
       "      <th>id</th>\n",
       "      <th>anchor</th>\n",
       "      <th>target</th>\n",
       "      <th>context</th>\n",
       "    </tr>\n",
       "  </thead>\n",
       "  <tbody>\n",
       "    <tr>\n",
       "      <th>count</th>\n",
       "      <td>36</td>\n",
       "      <td>36</td>\n",
       "      <td>36</td>\n",
       "      <td>36</td>\n",
       "    </tr>\n",
       "    <tr>\n",
       "      <th>unique</th>\n",
       "      <td>36</td>\n",
       "      <td>34</td>\n",
       "      <td>36</td>\n",
       "      <td>29</td>\n",
       "    </tr>\n",
       "    <tr>\n",
       "      <th>top</th>\n",
       "      <td>4112d61851461f60</td>\n",
       "      <td>hybrid bearing</td>\n",
       "      <td>inorganic photoconductor drum</td>\n",
       "      <td>G02</td>\n",
       "    </tr>\n",
       "    <tr>\n",
       "      <th>freq</th>\n",
       "      <td>1</td>\n",
       "      <td>2</td>\n",
       "      <td>1</td>\n",
       "      <td>3</td>\n",
       "    </tr>\n",
       "  </tbody>\n",
       "</table>\n",
       "</div>"
      ],
      "text/plain": [
       "                      id          anchor                         target  \\\n",
       "count                 36              36                             36   \n",
       "unique                36              34                             36   \n",
       "top     4112d61851461f60  hybrid bearing  inorganic photoconductor drum   \n",
       "freq                   1               2                              1   \n",
       "\n",
       "       context  \n",
       "count       36  \n",
       "unique      29  \n",
       "top        G02  \n",
       "freq         3  "
      ]
     },
     "execution_count": 15,
     "metadata": {},
     "output_type": "execute_result"
    }
   ],
   "source": [
    "eval_df = pd.read_csv('/kaggle/input/us-patent-phrase-to-phrase-matching/test.csv')\n",
    "eval_df.describe()"
   ]
  },
  {
   "cell_type": "code",
   "execution_count": 16,
   "id": "c182f989",
   "metadata": {
    "execution": {
     "iopub.execute_input": "2024-04-23T01:48:03.963225Z",
     "iopub.status.busy": "2024-04-23T01:48:03.962948Z",
     "iopub.status.idle": "2024-04-23T01:48:03.966901Z",
     "shell.execute_reply": "2024-04-23T01:48:03.966067Z"
    },
    "papermill": {
     "duration": 0.020331,
     "end_time": "2024-04-23T01:48:03.968745",
     "exception": false,
     "start_time": "2024-04-23T01:48:03.948414",
     "status": "completed"
    },
    "tags": []
   },
   "outputs": [],
   "source": [
    "# Validation set\n",
    "def f(x):\n",
    "    return -3*x**2 + 2*x + 20"
   ]
  },
  {
   "cell_type": "code",
   "execution_count": 17,
   "id": "4e4e5d86",
   "metadata": {
    "execution": {
     "iopub.execute_input": "2024-04-23T01:48:03.997183Z",
     "iopub.status.busy": "2024-04-23T01:48:03.996926Z",
     "iopub.status.idle": "2024-04-23T01:48:04.292420Z",
     "shell.execute_reply": "2024-04-23T01:48:04.291536Z"
    },
    "papermill": {
     "duration": 0.311947,
     "end_time": "2024-04-23T01:48:04.294505",
     "exception": false,
     "start_time": "2024-04-23T01:48:03.982558",
     "status": "completed"
    },
    "tags": []
   },
   "outputs": [
    {
     "data": {
      "image/png": "[encoded data removed]",
      "text/plain": [
       "<Figure size 640x480 with 1 Axes>"
      ]
     },
     "metadata": {},
     "output_type": "display_data"
    }
   ],
   "source": [
    "import numpy as np, matplotlib.pyplot as plt\n",
    "\n",
    "def plot_function(f, min=-2.1, max=2.1, color='b'):\n",
    "    x = np.linspace(min,max, 100)[:,None]\n",
    "    plt.plot(x, f(x), color)\n",
    "\n",
    "plot_function(f)"
   ]
  },
  {
   "cell_type": "code",
   "execution_count": 18,
   "id": "42fd1ac7",
   "metadata": {
    "execution": {
     "iopub.execute_input": "2024-04-23T01:48:04.324065Z",
     "iopub.status.busy": "2024-04-23T01:48:04.323796Z",
     "iopub.status.idle": "2024-04-23T01:48:04.327845Z",
     "shell.execute_reply": "2024-04-23T01:48:04.326968Z"
    },
    "papermill": {
     "duration": 0.020948,
     "end_time": "2024-04-23T01:48:04.329757",
     "exception": false,
     "start_time": "2024-04-23T01:48:04.308809",
     "status": "completed"
    },
    "tags": []
   },
   "outputs": [],
   "source": [
    "from numpy.random import normal,seed,uniform\n",
    "np.random.seed(42)"
   ]
  },
  {
   "cell_type": "code",
   "execution_count": 19,
   "id": "074f04e1",
   "metadata": {
    "execution": {
     "iopub.execute_input": "2024-04-23T01:48:04.360586Z",
     "iopub.status.busy": "2024-04-23T01:48:04.359963Z",
     "iopub.status.idle": "2024-04-23T01:48:04.364692Z",
     "shell.execute_reply": "2024-04-23T01:48:04.363859Z"
    },
    "papermill": {
     "duration": 0.022708,
     "end_time": "2024-04-23T01:48:04.366584",
     "exception": false,
     "start_time": "2024-04-23T01:48:04.343876",
     "status": "completed"
    },
    "tags": []
   },
   "outputs": [],
   "source": [
    "# Here's a function `add_noise` that adds some random variation to an array:\n",
    "def noise(x, scale):\n",
    "    return normal(scale=scale, size=x.shape)\n",
    "\n",
    "def add_noise(x, mult, add):\n",
    "    return x * (1+noise(x,mult)) + noise(x,add)"
   ]
  },
  {
   "cell_type": "code",
   "execution_count": 20,
   "id": "9dce227b",
   "metadata": {
    "execution": {
     "iopub.execute_input": "2024-04-23T01:48:04.397235Z",
     "iopub.status.busy": "2024-04-23T01:48:04.396980Z",
     "iopub.status.idle": "2024-04-23T01:48:04.718972Z",
     "shell.execute_reply": "2024-04-23T01:48:04.718142Z"
    },
    "papermill": {
     "duration": 0.339671,
     "end_time": "2024-04-23T01:48:04.720804",
     "exception": false,
     "start_time": "2024-04-23T01:48:04.381133",
     "status": "completed"
    },
    "tags": []
   },
   "outputs": [
    {
     "data": {
      "image/png": "[encoded data removed]",
      "text/plain": [
       "<Figure size 640x480 with 1 Axes>"
      ]
     },
     "metadata": {},
     "output_type": "display_data"
    }
   ],
   "source": [
    "# simulation of measurements evenly distributed over time\n",
    "\n",
    "x = np.linspace(-2, 2, num=20)[:,None]\n",
    "y = add_noise(f(x), 0.2, 1.3)\n",
    "plt.scatter(x,y);"
   ]
  },
  {
   "cell_type": "code",
   "execution_count": 21,
   "id": "c7ef15c7",
   "metadata": {
    "execution": {
     "iopub.execute_input": "2024-04-23T01:48:04.750955Z",
     "iopub.status.busy": "2024-04-23T01:48:04.750680Z",
     "iopub.status.idle": "2024-04-23T01:48:07.232671Z",
     "shell.execute_reply": "2024-04-23T01:48:07.231779Z"
    },
    "papermill": {
     "duration": 2.499224,
     "end_time": "2024-04-23T01:48:07.234864",
     "exception": false,
     "start_time": "2024-04-23T01:48:04.735640",
     "status": "completed"
    },
    "tags": []
   },
   "outputs": [
    {
     "data": {
      "image/png": "[encoded data removed]",
      "text/plain": [
       "<Figure size 640x480 with 1 Axes>"
      ]
     },
     "metadata": {},
     "output_type": "display_data"
    }
   ],
   "source": [
    "from sklearn.linear_model import LinearRegression\n",
    "from sklearn.preprocessing import PolynomialFeatures\n",
    "from sklearn.pipeline import make_pipeline\n",
    "\n",
    "def plot_poly(degree):\n",
    "    model = make_pipeline(PolynomialFeatures(degree), LinearRegression())\n",
    "    model.fit(x, y)\n",
    "    plt.scatter(x,y)\n",
    "    plot_function(model.predict)\n",
    "\n",
    "plot_poly(1)"
   ]
  },
  {
   "cell_type": "code",
   "execution_count": 22,
   "id": "51f27f02",
   "metadata": {
    "execution": {
     "iopub.execute_input": "2024-04-23T01:48:07.266659Z",
     "iopub.status.busy": "2024-04-23T01:48:07.266352Z",
     "iopub.status.idle": "2024-04-23T01:48:07.469525Z",
     "shell.execute_reply": "2024-04-23T01:48:07.468683Z"
    },
    "papermill": {
     "duration": 0.221362,
     "end_time": "2024-04-23T01:48:07.471561",
     "exception": false,
     "start_time": "2024-04-23T01:48:07.250199",
     "status": "completed"
    },
    "tags": []
   },
   "outputs": [
    {
     "data": {
      "image/png": "[encoded data removed]",
      "text/plain": [
       "<Figure size 640x480 with 1 Axes>"
      ]
     },
     "metadata": {},
     "output_type": "display_data"
    }
   ],
   "source": [
    "plot_poly(10)"
   ]
  },
  {
   "cell_type": "code",
   "execution_count": 23,
   "id": "ed35cda7",
   "metadata": {
    "execution": {
     "iopub.execute_input": "2024-04-23T01:48:07.503989Z",
     "iopub.status.busy": "2024-04-23T01:48:07.503708Z",
     "iopub.status.idle": "2024-04-23T01:48:07.770654Z",
     "shell.execute_reply": "2024-04-23T01:48:07.769809Z"
    },
    "papermill": {
     "duration": 0.285778,
     "end_time": "2024-04-23T01:48:07.772827",
     "exception": false,
     "start_time": "2024-04-23T01:48:07.487049",
     "status": "completed"
    },
    "tags": []
   },
   "outputs": [
    {
     "data": {
      "image/png": "[encoded data removed]",
      "text/plain": [
       "<Figure size 640x480 with 1 Axes>"
      ]
     },
     "metadata": {},
     "output_type": "display_data"
    }
   ],
   "source": [
    "plot_poly(2)\n",
    "plot_function(f, color='r')"
   ]
  },
  {
   "cell_type": "markdown",
   "id": "b9ec94b7",
   "metadata": {
    "papermill": {
     "duration": 0.015494,
     "end_time": "2024-04-23T01:48:07.806049",
     "exception": false,
     "start_time": "2024-04-23T01:48:07.790555",
     "status": "completed"
    },
    "tags": []
   },
   "source": [
    "Transformers uses `DatasetDict` for holding your training and validation sets. To create one that contains 25% of our data for the validation set, and 75% for the training set, use `train_test_split`"
   ]
  },
  {
   "cell_type": "code",
   "execution_count": 24,
   "id": "589c9d0f",
   "metadata": {
    "execution": {
     "iopub.execute_input": "2024-04-23T01:48:07.838511Z",
     "iopub.status.busy": "2024-04-23T01:48:07.838220Z",
     "iopub.status.idle": "2024-04-23T01:48:07.866064Z",
     "shell.execute_reply": "2024-04-23T01:48:07.865070Z"
    },
    "papermill": {
     "duration": 0.046338,
     "end_time": "2024-04-23T01:48:07.867999",
     "exception": false,
     "start_time": "2024-04-23T01:48:07.821661",
     "status": "completed"
    },
    "tags": []
   },
   "outputs": [
    {
     "name": "stdout",
     "output_type": "stream",
     "text": [
      "DatasetDict({\n",
      "    train: Dataset({\n",
      "        features: ['id', 'anchor', 'target', 'context', 'labels', 'input', 'input_ids', 'token_type_ids', 'attention_mask'],\n",
      "        num_rows: 27354\n",
      "    })\n",
      "    test: Dataset({\n",
      "        features: ['id', 'anchor', 'target', 'context', 'labels', 'input', 'input_ids', 'token_type_ids', 'attention_mask'],\n",
      "        num_rows: 9119\n",
      "    })\n",
      "})\n"
     ]
    }
   ],
   "source": [
    "dds = tok_ds.train_test_split(0.25, seed=42)\n",
    "print(dds)"
   ]
  },
  {
   "cell_type": "code",
   "execution_count": 25,
   "id": "7467a890",
   "metadata": {
    "execution": {
     "iopub.execute_input": "2024-04-23T01:48:07.900769Z",
     "iopub.status.busy": "2024-04-23T01:48:07.900483Z",
     "iopub.status.idle": "2024-04-23T01:48:08.101442Z",
     "shell.execute_reply": "2024-04-23T01:48:08.100586Z"
    },
    "papermill": {
     "duration": 0.220776,
     "end_time": "2024-04-23T01:48:08.104274",
     "exception": false,
     "start_time": "2024-04-23T01:48:07.883498",
     "status": "completed"
    },
    "tags": []
   },
   "outputs": [
    {
     "data": {
      "application/vnd.jupyter.widget-view+json": {
       "model_id": "905e4caf52264b0c8ea8b3793628e05b",
       "version_major": 2,
       "version_minor": 0
      },
      "text/plain": [
       "Map:   0%|          | 0/36 [00:00<?, ? examples/s]"
      ]
     },
     "metadata": {},
     "output_type": "display_data"
    }
   ],
   "source": [
    "eval_df['input'] = 'TEXT1: ' + eval_df.context + '; TEXT2: ' + eval_df.target + '; ANC1: ' + eval_df.anchor\n",
    "eval_ds = Dataset.from_pandas(eval_df).map(tok_func, batched=True)"
   ]
  },
  {
   "cell_type": "markdown",
   "id": "97a247e5",
   "metadata": {
    "papermill": {
     "duration": 0.017058,
     "end_time": "2024-04-23T01:48:08.138510",
     "exception": false,
     "start_time": "2024-04-23T01:48:08.121452",
     "status": "completed"
    },
    "tags": []
   },
   "source": [
    "Transformers expects metrics to be returned as a `dict`, since that way the trainer knows what label to use -"
   ]
  },
  {
   "cell_type": "code",
   "execution_count": 26,
   "id": "9d635835",
   "metadata": {
    "execution": {
     "iopub.execute_input": "2024-04-23T01:48:08.174061Z",
     "iopub.status.busy": "2024-04-23T01:48:08.173757Z",
     "iopub.status.idle": "2024-04-23T01:48:08.177717Z",
     "shell.execute_reply": "2024-04-23T01:48:08.176895Z"
    },
    "papermill": {
     "duration": 0.023938,
     "end_time": "2024-04-23T01:48:08.179618",
     "exception": false,
     "start_time": "2024-04-23T01:48:08.155680",
     "status": "completed"
    },
    "tags": []
   },
   "outputs": [],
   "source": [
    "def corr_d(eval_pred):\n",
    "    return {'pearson': corr(*eval_pred)}"
   ]
  },
  {
   "cell_type": "markdown",
   "id": "9dadad8a",
   "metadata": {
    "papermill": {
     "duration": 0.015354,
     "end_time": "2024-04-23T01:48:08.211238",
     "exception": false,
     "start_time": "2024-04-23T01:48:08.195884",
     "status": "completed"
    },
    "tags": []
   },
   "source": [
    "## Training"
   ]
  },
  {
   "cell_type": "code",
   "execution_count": 27,
   "id": "3806208f",
   "metadata": {
    "execution": {
     "iopub.execute_input": "2024-04-23T01:48:08.244484Z",
     "iopub.status.busy": "2024-04-23T01:48:08.244198Z",
     "iopub.status.idle": "2024-04-23T01:48:24.535788Z",
     "shell.execute_reply": "2024-04-23T01:48:24.534928Z"
    },
    "papermill": {
     "duration": 16.311343,
     "end_time": "2024-04-23T01:48:24.538434",
     "exception": false,
     "start_time": "2024-04-23T01:48:08.227091",
     "status": "completed"
    },
    "tags": []
   },
   "outputs": [
    {
     "name": "stderr",
     "output_type": "stream",
     "text": [
      "2024-04-23 01:48:13.075844: E external/local_xla/xla/stream_executor/cuda/cuda_dnn.cc:9261] Unable to register cuDNN factory: Attempting to register factory for plugin cuDNN when one has already been registered\n",
      "2024-04-23 01:48:13.075973: E external/local_xla/xla/stream_executor/cuda/cuda_fft.cc:607] Unable to register cuFFT factory: Attempting to register factory for plugin cuFFT when one has already been registered\n",
      "2024-04-23 01:48:13.350734: E external/local_xla/xla/stream_executor/cuda/cuda_blas.cc:1515] Unable to register cuBLAS factory: Attempting to register factory for plugin cuBLAS when one has already been registered\n"
     ]
    }
   ],
   "source": [
    "from transformers import TrainingArguments,Trainer\n",
    "\n",
    "# these are the 3 values which needs to be changed for different models\n",
    "\n",
    "bs = 128\n",
    "epochs = 4\n",
    "# the most important hyperparameter is the learning rate.\n",
    "lr = 8e-5"
   ]
  },
  {
   "cell_type": "markdown",
   "id": "3c3bed13",
   "metadata": {
    "papermill": {
     "duration": 0.016113,
     "end_time": "2024-04-23T01:48:24.571596",
     "exception": false,
     "start_time": "2024-04-23T01:48:24.555483",
     "status": "completed"
    },
    "tags": []
   },
   "source": [
    "We can now create our model, and `Trainer`, which is a class which combines the data and model together (just like `Learner` in fastai) -"
   ]
  },
  {
   "cell_type": "code",
   "execution_count": 28,
   "id": "2e0582a2",
   "metadata": {
    "execution": {
     "iopub.execute_input": "2024-04-23T01:48:24.609224Z",
     "iopub.status.busy": "2024-04-23T01:48:24.608492Z",
     "iopub.status.idle": "2024-04-23T01:48:24.759023Z",
     "shell.execute_reply": "2024-04-23T01:48:24.758133Z"
    },
    "papermill": {
     "duration": 0.172387,
     "end_time": "2024-04-23T01:48:24.761310",
     "exception": false,
     "start_time": "2024-04-23T01:48:24.588923",
     "status": "completed"
    },
    "tags": []
   },
   "outputs": [],
   "source": [
    "args = TrainingArguments('outputs',\n",
    "                         learning_rate=lr,\n",
    "                         warmup_ratio=0.1,\n",
    "                         lr_scheduler_type='cosine',\n",
    "                         fp16=True,\n",
    "\n",
    "    evaluation_strategy=\"epoch\",\n",
    "                         per_device_train_batch_size=bs,\n",
    "                         per_device_eval_batch_size=bs*2,\n",
    "\n",
    "    num_train_epochs=epochs,\n",
    "                         weight_decay=0.01,\n",
    "                         report_to='none')"
   ]
  },
  {
   "cell_type": "code",
   "execution_count": 29,
   "id": "efab6b8f",
   "metadata": {
    "execution": {
     "iopub.execute_input": "2024-04-23T01:48:24.798126Z",
     "iopub.status.busy": "2024-04-23T01:48:24.797742Z",
     "iopub.status.idle": "2024-04-23T01:48:27.561808Z",
     "shell.execute_reply": "2024-04-23T01:48:27.561015Z"
    },
    "papermill": {
     "duration": 2.783996,
     "end_time": "2024-04-23T01:48:27.564191",
     "exception": false,
     "start_time": "2024-04-23T01:48:24.780195",
     "status": "completed"
    },
    "tags": []
   },
   "outputs": [
    {
     "data": {
      "application/vnd.jupyter.widget-view+json": {
       "model_id": "4162a65f7ad2449bb08f8ee8e49f32ff",
       "version_major": 2,
       "version_minor": 0
      },
      "text/plain": [
       "pytorch_model.bin:   0%|          | 0.00/286M [00:00<?, ?B/s]"
      ]
     },
     "metadata": {},
     "output_type": "display_data"
    },
    {
     "name": "stderr",
     "output_type": "stream",
     "text": [
      "/opt/conda/lib/python3.10/site-packages/torch/_utils.py:831: UserWarning: TypedStorage is deprecated. It will be removed in the future and UntypedStorage will be the only storage class. This should only matter to you if you are using storages directly.  To access UntypedStorage directly, use tensor.untyped_storage() instead of tensor.storage()\n",
      "  return self.fget.__get__(instance, owner)()\n",
      "Some weights of DebertaV2ForSequenceClassification were not initialized from the model checkpoint at microsoft/deberta-v3-small and are newly initialized: ['classifier.bias', 'classifier.weight', 'pooler.dense.bias', 'pooler.dense.weight']\n",
      "You should probably TRAIN this model on a down-stream task to be able to use it for predictions and inference.\n",
      "/opt/conda/lib/python3.10/site-packages/accelerate/accelerator.py:436: FutureWarning: Passing the following arguments to `Accelerator` is deprecated and will be removed in version 1.0 of Accelerate: dict_keys(['dispatch_batches', 'split_batches', 'even_batches', 'use_seedable_sampler']). Please pass an `accelerate.DataLoaderConfiguration` instead: \n",
      "dataloader_config = DataLoaderConfiguration(dispatch_batches=None, split_batches=False, even_batches=True, use_seedable_sampler=True)\n",
      "  warnings.warn(\n"
     ]
    }
   ],
   "source": [
    "model = AutoModelForSequenceClassification.from_pretrained(model_nm, \n",
    "                                                           num_labels=1)\n",
    "\n",
    "trainer = Trainer(model, args, \n",
    "                  train_dataset=dds['train'], \n",
    "                  eval_dataset=dds['test'],\n",
    "                  tokenizer=tokz, \n",
    "                  compute_metrics=corr_d)"
   ]
  },
  {
   "cell_type": "code",
   "execution_count": 30,
   "id": "e15ac9a2",
   "metadata": {
    "execution": {
     "iopub.execute_input": "2024-04-23T01:48:27.599823Z",
     "iopub.status.busy": "2024-04-23T01:48:27.599201Z",
     "iopub.status.idle": "2024-04-23T01:48:27.604047Z",
     "shell.execute_reply": "2024-04-23T01:48:27.603143Z"
    },
    "papermill": {
     "duration": 0.024778,
     "end_time": "2024-04-23T01:48:27.606064",
     "exception": false,
     "start_time": "2024-04-23T01:48:27.581286",
     "status": "completed"
    },
    "tags": []
   },
   "outputs": [],
   "source": [
    "def corr(x,y): \n",
    "    return np.corrcoef(x,y)[0][1]\n",
    "\n",
    "def corr_d(eval_pred): \n",
    "    return {'pearson': corr(*eval_pred)}"
   ]
  },
  {
   "cell_type": "code",
   "execution_count": 31,
   "id": "ace454cd",
   "metadata": {
    "execution": {
     "iopub.execute_input": "2024-04-23T01:48:27.641476Z",
     "iopub.status.busy": "2024-04-23T01:48:27.641180Z",
     "iopub.status.idle": "2024-04-23T01:52:56.777020Z",
     "shell.execute_reply": "2024-04-23T01:52:56.775959Z"
    },
    "papermill": {
     "duration": 269.156403,
     "end_time": "2024-04-23T01:52:56.779538",
     "exception": false,
     "start_time": "2024-04-23T01:48:27.623135",
     "status": "completed"
    },
    "tags": []
   },
   "outputs": [
    {
     "name": "stderr",
     "output_type": "stream",
     "text": [
      "/opt/conda/lib/python3.10/site-packages/torch/nn/parallel/_functions.py:68: UserWarning: Was asked to gather along dimension 0, but all input tensors were scalars; will instead unsqueeze and return a vector.\n",
      "  warnings.warn('Was asked to gather along dimension 0, but all '\n"
     ]
    },
    {
     "data": {
      "text/html": [
       "\n",
       "    <div>\n",
       "      \n",
       "      <progress value='428' max='428' style='width:300px; height:20px; vertical-align: middle;'></progress>\n",
       "      [428/428 04:24, Epoch 4/4]\n",
       "    </div>\n",
       "    <table border=\"1\" class=\"dataframe\">\n",
       "  <thead>\n",
       " <tr style=\"text-align: left;\">\n",
       "      <th>Epoch</th>\n",
       "      <th>Training Loss</th>\n",
       "      <th>Validation Loss</th>\n",
       "      <th>Pearson</th>\n",
       "    </tr>\n",
       "  </thead>\n",
       "  <tbody>\n",
       "    <tr>\n",
       "      <td>1</td>\n",
       "      <td>No log</td>\n",
       "      <td>0.041019</td>\n",
       "      <td>0.771117</td>\n",
       "    </tr>\n",
       "    <tr>\n",
       "      <td>2</td>\n",
       "      <td>No log</td>\n",
       "      <td>0.023752</td>\n",
       "      <td>0.808276</td>\n",
       "    </tr>\n",
       "    <tr>\n",
       "      <td>3</td>\n",
       "      <td>No log</td>\n",
       "      <td>0.024122</td>\n",
       "      <td>0.824754</td>\n",
       "    </tr>\n",
       "    <tr>\n",
       "      <td>4</td>\n",
       "      <td>No log</td>\n",
       "      <td>0.023436</td>\n",
       "      <td>0.826664</td>\n",
       "    </tr>\n",
       "  </tbody>\n",
       "</table><p>"
      ],
      "text/plain": [
       "<IPython.core.display.HTML object>"
      ]
     },
     "metadata": {},
     "output_type": "display_data"
    }
   ],
   "source": [
    "trainer.train();"
   ]
  },
  {
   "cell_type": "code",
   "execution_count": 32,
   "id": "1dd6e06b",
   "metadata": {
    "execution": {
     "iopub.execute_input": "2024-04-23T01:52:56.821730Z",
     "iopub.status.busy": "2024-04-23T01:52:56.820924Z",
     "iopub.status.idle": "2024-04-23T01:52:56.969184Z",
     "shell.execute_reply": "2024-04-23T01:52:56.968111Z"
    },
    "papermill": {
     "duration": 0.170493,
     "end_time": "2024-04-23T01:52:56.971362",
     "exception": false,
     "start_time": "2024-04-23T01:52:56.800869",
     "status": "completed"
    },
    "tags": []
   },
   "outputs": [
    {
     "data": {
      "text/html": [],
      "text/plain": [
       "<IPython.core.display.HTML object>"
      ]
     },
     "metadata": {},
     "output_type": "display_data"
    },
    {
     "data": {
      "text/plain": [
       "array([[ 0.56520742],\n",
       "       [ 0.67624944],\n",
       "       [ 0.50206828],\n",
       "       [ 0.30037236],\n",
       "       [-0.00658771],\n",
       "       [ 0.51465994],\n",
       "       [ 0.52730817],\n",
       "       [ 0.05278526],\n",
       "       [ 0.29904383],\n",
       "       [ 1.08946526],\n",
       "       [ 0.21530379],\n",
       "       [ 0.26234066],\n",
       "       [ 0.72277504],\n",
       "       [ 0.81286883],\n",
       "       [ 0.74298429],\n",
       "       [ 0.47356951],\n",
       "       [ 0.32725695],\n",
       "       [-0.05477966],\n",
       "       [ 0.65391809],\n",
       "       [ 0.33917561],\n",
       "       [ 0.37296659],\n",
       "       [ 0.25024578],\n",
       "       [ 0.11161976],\n",
       "       [ 0.21611455],\n",
       "       [ 0.59626722],\n",
       "       [-0.04290827],\n",
       "       [-0.04281251],\n",
       "       [-0.02869337],\n",
       "       [-0.04908544],\n",
       "       [ 0.69936091],\n",
       "       [ 0.35609609],\n",
       "       [ 0.05889322],\n",
       "       [ 0.70987159],\n",
       "       [ 0.50248224],\n",
       "       [ 0.42226505],\n",
       "       [ 0.22324952]])"
      ]
     },
     "execution_count": 32,
     "metadata": {},
     "output_type": "execute_result"
    }
   ],
   "source": [
    "preds = trainer.predict(eval_ds).predictions.astype(float)\n",
    "preds"
   ]
  },
  {
   "cell_type": "markdown",
   "id": "bdbb4fc5",
   "metadata": {
    "papermill": {
     "duration": 0.01731,
     "end_time": "2024-04-23T01:52:57.008130",
     "exception": false,
     "start_time": "2024-04-23T01:52:56.990820",
     "status": "completed"
    },
    "tags": []
   },
   "source": [
    "Some predictions are out of bound. The below code will help fix that."
   ]
  },
  {
   "cell_type": "code",
   "execution_count": 33,
   "id": "0c0d794b",
   "metadata": {
    "execution": {
     "iopub.execute_input": "2024-04-23T01:52:57.045123Z",
     "iopub.status.busy": "2024-04-23T01:52:57.044836Z",
     "iopub.status.idle": "2024-04-23T01:52:57.051632Z",
     "shell.execute_reply": "2024-04-23T01:52:57.050801Z"
    },
    "papermill": {
     "duration": 0.027753,
     "end_time": "2024-04-23T01:52:57.053737",
     "exception": false,
     "start_time": "2024-04-23T01:52:57.025984",
     "status": "completed"
    },
    "tags": []
   },
   "outputs": [
    {
     "data": {
      "text/plain": [
       "array([[0.56520742],\n",
       "       [0.67624944],\n",
       "       [0.50206828],\n",
       "       [0.30037236],\n",
       "       [0.        ],\n",
       "       [0.51465994],\n",
       "       [0.52730817],\n",
       "       [0.05278526],\n",
       "       [0.29904383],\n",
       "       [1.        ],\n",
       "       [0.21530379],\n",
       "       [0.26234066],\n",
       "       [0.72277504],\n",
       "       [0.81286883],\n",
       "       [0.74298429],\n",
       "       [0.47356951],\n",
       "       [0.32725695],\n",
       "       [0.        ],\n",
       "       [0.65391809],\n",
       "       [0.33917561],\n",
       "       [0.37296659],\n",
       "       [0.25024578],\n",
       "       [0.11161976],\n",
       "       [0.21611455],\n",
       "       [0.59626722],\n",
       "       [0.        ],\n",
       "       [0.        ],\n",
       "       [0.        ],\n",
       "       [0.        ],\n",
       "       [0.69936091],\n",
       "       [0.35609609],\n",
       "       [0.05889322],\n",
       "       [0.70987159],\n",
       "       [0.50248224],\n",
       "       [0.42226505],\n",
       "       [0.22324952]])"
      ]
     },
     "execution_count": 33,
     "metadata": {},
     "output_type": "execute_result"
    }
   ],
   "source": [
    "preds = np.clip(preds, 0, 1)\n",
    "preds"
   ]
  },
  {
   "cell_type": "markdown",
   "id": "46c16881",
   "metadata": {
    "papermill": {
     "duration": 0.017614,
     "end_time": "2024-04-23T01:52:57.091002",
     "exception": false,
     "start_time": "2024-04-23T01:52:57.073388",
     "status": "completed"
    },
    "tags": []
   },
   "source": [
    "## Creating the submission file"
   ]
  },
  {
   "cell_type": "code",
   "execution_count": 34,
   "id": "569954a8",
   "metadata": {
    "execution": {
     "iopub.execute_input": "2024-04-23T01:52:57.128154Z",
     "iopub.status.busy": "2024-04-23T01:52:57.127885Z",
     "iopub.status.idle": "2024-04-23T01:52:57.180645Z",
     "shell.execute_reply": "2024-04-23T01:52:57.179830Z"
    },
    "papermill": {
     "duration": 0.07358,
     "end_time": "2024-04-23T01:52:57.183065",
     "exception": false,
     "start_time": "2024-04-23T01:52:57.109485",
     "status": "completed"
    },
    "tags": []
   },
   "outputs": [
    {
     "data": {
      "application/vnd.jupyter.widget-view+json": {
       "model_id": "ff9c025653654256b5f2c15e900285f2",
       "version_major": 2,
       "version_minor": 0
      },
      "text/plain": [
       "Creating CSV from Arrow format:   0%|          | 0/1 [00:00<?, ?ba/s]"
      ]
     },
     "metadata": {},
     "output_type": "display_data"
    },
    {
     "data": {
      "text/plain": [
       "1033"
      ]
     },
     "execution_count": 34,
     "metadata": {},
     "output_type": "execute_result"
    }
   ],
   "source": [
    "import datasets\n",
    "\n",
    "submission = datasets.Dataset.from_dict({\n",
    "    'id': eval_ds['id'],\n",
    "    'score': preds\n",
    "})\n",
    "\n",
    "submission.to_csv('submission.csv', index=False)"
   ]
  }
 ],
 "metadata": {
  "kaggle": {
   "accelerator": "nvidiaTeslaT4",
   "dataSources": [
    {
     "databundleVersionId": 3279164,
     "sourceId": 33657,
     "sourceType": "competition"
    }
   ],
   "dockerImageVersionId": 30699,
   "isGpuEnabled": true,
   "isInternetEnabled": true,
   "language": "python",
   "sourceType": "notebook"
  },
  "kernelspec": {
   "display_name": "Python 3",
   "language": "python",
   "name": "python3"
  },
  "language_info": {
   "codemirror_mode": {
    "name": "ipython",
    "version": 3
   },
   "file_extension": ".py",
   "mimetype": "text/x-python",
   "name": "python",
   "nbconvert_exporter": "python",
   "pygments_lexer": "ipython3",
   "version": "3.10.13"
  },
  "papermill": {
   "default_parameters": {},
   "duration": 319.094025,
   "end_time": "2024-04-23T01:53:00.900476",
   "environment_variables": {},
   "exception": null,
   "input_path": "__notebook__.ipynb",
   "output_path": "__notebook__.ipynb",
   "parameters": {},
   "start_time": "2024-04-23T01:47:41.806451",
   "version": "2.5.0"
  },
  "widgets": {
   "application/vnd.jupyter.widget-state+json": {
    "state": {
     "075afe72ad9a46b1a95c308e6b9428f6": {
      "model_module": "@jupyter-widgets/base",
      "model_module_version": "1.2.0",
      "model_name": "LayoutModel",
      "state": {
       "_model_module": "@jupyter-widgets/base",
       "_model_module_version": "1.2.0",
       "_model_name": "LayoutModel",
       "_view_count": null,
       "_view_module": "@jupyter-widgets/base",
       "_view_module_version": "1.2.0",
       "_view_name": "LayoutView",
       "align_content": null,
       "align_items": null,
       "align_self": null,
       "border": null,
       "bottom": null,
       "display": null,
       "flex": null,
       "flex_flow": null,
       "grid_area": null,
       "grid_auto_columns": null,
       "grid_auto_flow": null,
       "grid_auto_rows": null,
       "grid_column": null,
       "grid_gap": null,
       "grid_row": null,
       "grid_template_areas": null,
       "grid_template_columns": null,
       "grid_template_rows": null,
       "height": null,
       "justify_content": null,
       "justify_items": null,
       "left": null,
       "margin": null,
       "max_height": null,
       "max_width": null,
       "min_height": null,
       "min_width": null,
       "object_fit": null,
       "object_position": null,
       "order": null,
       "overflow": null,
       "overflow_x": null,
       "overflow_y": null,
       "padding": null,
       "right": null,
       "top": null,
       "visibility": null,
       "width": null
      }
     },
     "0cf79e993bcc43f3b09d01fb25c1a8b6": {
      "model_module": "@jupyter-widgets/controls",
      "model_module_version": "1.5.0",
      "model_name": "HTMLModel",
      "state": {
       "_dom_classes": [],
       "_model_module": "@jupyter-widgets/controls",
       "_model_module_version": "1.5.0",
       "_model_name": "HTMLModel",
       "_view_count": null,
       "_view_module": "@jupyter-widgets/controls",
       "_view_module_version": "1.5.0",
       "_view_name": "HTMLView",
       "description": "",
       "description_tooltip": null,
       "layout": "IPY_MODEL_5dbf9f93e2c04663bee52205af4e00ca",
       "placeholder": "​",
       "style": "IPY_MODEL_cfd6dcbfc4254cac905d075372610503",
       "value": "Map: 100%"
      }
     },
     "0d047f505aa147f6a5a4c32c29501b4c": {
      "model_module": "@jupyter-widgets/base",
      "model_module_version": "1.2.0",
      "model_name": "LayoutModel",
      "state": {
       "_model_module": "@jupyter-widgets/base",
       "_model_module_version": "1.2.0",
       "_model_name": "LayoutModel",
       "_view_count": null,
       "_view_module": "@jupyter-widgets/base",
       "_view_module_version": "1.2.0",
       "_view_name": "LayoutView",
       "align_content": null,
       "align_items": null,
       "align_self": null,
       "border": null,
       "bottom": null,
       "display": null,
       "flex": null,
       "flex_flow": null,
       "grid_area": null,
       "grid_auto_columns": null,
       "grid_auto_flow": null,
       "grid_auto_rows": null,
       "grid_column": null,
       "grid_gap": null,
       "grid_row": null,
       "grid_template_areas": null,
       "grid_template_columns": null,
       "grid_template_rows": null,
       "height": null,
       "justify_content": null,
       "justify_items": null,
       "left": null,
       "margin": null,
       "max_height": null,
       "max_width": null,
       "min_height": null,
       "min_width": null,
       "object_fit": null,
       "object_position": null,
       "order": null,
       "overflow": null,
       "overflow_x": null,
       "overflow_y": null,
       "padding": null,
       "right": null,
       "top": null,
       "visibility": null,
       "width": null
      }
     },
     "1118e6dac19247489acf33d6ee9bad9d": {
      "model_module": "@jupyter-widgets/controls",
      "model_module_version": "1.5.0",
      "model_name": "ProgressStyleModel",
      "state": {
       "_model_module": "@jupyter-widgets/controls",
       "_model_module_version": "1.5.0",
       "_model_name": "ProgressStyleModel",
       "_view_count": null,
       "_view_module": "@jupyter-widgets/base",
       "_view_module_version": "1.2.0",
       "_view_name": "StyleView",
       "bar_color": null,
       "description_width": ""
      }
     },
     "1582d29ceb8a49af80ad2c20f01faceb": {
      "model_module": "@jupyter-widgets/base",
      "model_module_version": "1.2.0",
      "model_name": "LayoutModel",
      "state": {
       "_model_module": "@jupyter-widgets/base",
       "_model_module_version": "1.2.0",
       "_model_name": "LayoutModel",
       "_view_count": null,
       "_view_module": "@jupyter-widgets/base",
       "_view_module_version": "1.2.0",
       "_view_name": "LayoutView",
       "align_content": null,
       "align_items": null,
       "align_self": null,
       "border": null,
       "bottom": null,
       "display": null,
       "flex": null,
       "flex_flow": null,
       "grid_area": null,
       "grid_auto_columns": null,
       "grid_auto_flow": null,
       "grid_auto_rows": null,
       "grid_column": null,
       "grid_gap": null,
       "grid_row": null,
       "grid_template_areas": null,
       "grid_template_columns": null,
       "grid_template_rows": null,
       "height": null,
       "justify_content": null,
       "justify_items": null,
       "left": null,
       "margin": null,
       "max_height": null,
       "max_width": null,
       "min_height": null,
       "min_width": null,
       "object_fit": null,
       "object_position": null,
       "order": null,
       "overflow": null,
       "overflow_x": null,
       "overflow_y": null,
       "padding": null,
       "right": null,
       "top": null,
       "visibility": null,
       "width": null
      }
     },
     "173e644a820f4362b975ca6710b53d4b": {
      "model_module": "@jupyter-widgets/controls",
      "model_module_version": "1.5.0",
      "model_name": "DescriptionStyleModel",
      "state": {
       "_model_module": "@jupyter-widgets/controls",
       "_model_module_version": "1.5.0",
       "_model_name": "DescriptionStyleModel",
       "_view_count": null,
       "_view_module": "@jupyter-widgets/base",
       "_view_module_version": "1.2.0",
       "_view_name": "StyleView",
       "description_width": ""
      }
     },
     "17f3404194594dd495ddb81970abcf5c": {
      "model_module": "@jupyter-widgets/base",
      "model_module_version": "1.2.0",
      "model_name": "LayoutModel",
      "state": {
       "_model_module": "@jupyter-widgets/base",
       "_model_module_version": "1.2.0",
       "_model_name": "LayoutModel",
       "_view_count": null,
       "_view_module": "@jupyter-widgets/base",
       "_view_module_version": "1.2.0",
       "_view_name": "LayoutView",
       "align_content": null,
       "align_items": null,
       "align_self": null,
       "border": null,
       "bottom": null,
       "display": null,
       "flex": null,
       "flex_flow": null,
       "grid_area": null,
       "grid_auto_columns": null,
       "grid_auto_flow": null,
       "grid_auto_rows": null,
       "grid_column": null,
       "grid_gap": null,
       "grid_row": null,
       "grid_template_areas": null,
       "grid_template_columns": null,
       "grid_template_rows": null,
       "height": null,
       "justify_content": null,
       "justify_items": null,
       "left": null,
       "margin": null,
       "max_height": null,
       "max_width": null,
       "min_height": null,
       "min_width": null,
       "object_fit": null,
       "object_position": null,
       "order": null,
       "overflow": null,
       "overflow_x": null,
       "overflow_y": null,
       "padding": null,
       "right": null,
       "top": null,
       "visibility": null,
       "width": null
      }
     },
     "1eca1fbe21134fbe86441349391d36e8": {
      "model_module": "@jupyter-widgets/controls",
      "model_module_version": "1.5.0",
      "model_name": "HTMLModel",
      "state": {
       "_dom_classes": [],
       "_model_module": "@jupyter-widgets/controls",
       "_model_module_version": "1.5.0",
       "_model_name": "HTMLModel",
       "_view_count": null,
       "_view_module": "@jupyter-widgets/controls",
       "_view_module_version": "1.5.0",
       "_view_name": "HTMLView",
       "description": "",
       "description_tooltip": null,
       "layout": "IPY_MODEL_db639d94b03746a585eee2a3e93a6971",
       "placeholder": "​",
       "style": "IPY_MODEL_a4626062abc246289931ebb2f97961ca",
       "value": " 1/1 [00:00&lt;00:00, 34.51ba/s]"
      }
     },
     "21ce0306c7ea4f94ba0e1348f6bc0ef2": {
      "model_module": "@jupyter-widgets/base",
      "model_module_version": "1.2.0",
      "model_name": "LayoutModel",
      "state": {
       "_model_module": "@jupyter-widgets/base",
       "_model_module_version": "1.2.0",
       "_model_name": "LayoutModel",
       "_view_count": null,
       "_view_module": "@jupyter-widgets/base",
       "_view_module_version": "1.2.0",
       "_view_name": "LayoutView",
       "align_content": null,
       "align_items": null,
       "align_self": null,
       "border": null,
       "bottom": null,
       "display": null,
       "flex": null,
       "flex_flow": null,
       "grid_area": null,
       "grid_auto_columns": null,
       "grid_auto_flow": null,
       "grid_auto_rows": null,
       "grid_column": null,
       "grid_gap": null,
       "grid_row": null,
       "grid_template_areas": null,
       "grid_template_columns": null,
       "grid_template_rows": null,
       "height": null,
       "justify_content": null,
       "justify_items": null,
       "left": null,
       "margin": null,
       "max_height": null,
       "max_width": null,
       "min_height": null,
       "min_width": null,
       "object_fit": null,
       "object_position": null,
       "order": null,
       "overflow": null,
       "overflow_x": null,
       "overflow_y": null,
       "padding": null,
       "right": null,
       "top": null,
       "visibility": null,
       "width": null
      }
     },
     "261b52d1c34c490f9439e15ae774aa87": {
      "model_module": "@jupyter-widgets/controls",
      "model_module_version": "1.5.0",
      "model_name": "ProgressStyleModel",
      "state": {
       "_model_module": "@jupyter-widgets/controls",
       "_model_module_version": "1.5.0",
       "_model_name": "ProgressStyleModel",
       "_view_count": null,
       "_view_module": "@jupyter-widgets/base",
       "_view_module_version": "1.2.0",
       "_view_name": "StyleView",
       "bar_color": null,
       "description_width": ""
      }
     },
     "26fe579f13984f85a30eaa111fb6bdfb": {
      "model_module": "@jupyter-widgets/base",
      "model_module_version": "1.2.0",
      "model_name": "LayoutModel",
      "state": {
       "_model_module": "@jupyter-widgets/base",
       "_model_module_version": "1.2.0",
       "_model_name": "LayoutModel",
       "_view_count": null,
       "_view_module": "@jupyter-widgets/base",
       "_view_module_version": "1.2.0",
       "_view_name": "LayoutView",
       "align_content": null,
       "align_items": null,
       "align_self": null,
       "border": null,
       "bottom": null,
       "display": null,
       "flex": null,
       "flex_flow": null,
       "grid_area": null,
       "grid_auto_columns": null,
       "grid_auto_flow": null,
       "grid_auto_rows": null,
       "grid_column": null,
       "grid_gap": null,
       "grid_row": null,
       "grid_template_areas": null,
       "grid_template_columns": null,
       "grid_template_rows": null,
       "height": null,
       "justify_content": null,
       "justify_items": null,
       "left": null,
       "margin": null,
       "max_height": null,
       "max_width": null,
       "min_height": null,
       "min_width": null,
       "object_fit": null,
       "object_position": null,
       "order": null,
       "overflow": null,
       "overflow_x": null,
       "overflow_y": null,
       "padding": null,
       "right": null,
       "top": null,
       "visibility": null,
       "width": null
      }
     },
     "2d87b80bfcdb493d942f98b87d677517": {
      "model_module": "@jupyter-widgets/base",
      "model_module_version": "1.2.0",
      "model_name": "LayoutModel",
      "state": {
       "_model_module": "@jupyter-widgets/base",
       "_model_module_version": "1.2.0",
       "_model_name": "LayoutModel",
       "_view_count": null,
       "_view_module": "@jupyter-widgets/base",
       "_view_module_version": "1.2.0",
       "_view_name": "LayoutView",
       "align_content": null,
       "align_items": null,
       "align_self": null,
       "border": null,
       "bottom": null,
       "display": null,
       "flex": null,
       "flex_flow": null,
       "grid_area": null,
       "grid_auto_columns": null,
       "grid_auto_flow": null,
       "grid_auto_rows": null,
       "grid_column": null,
       "grid_gap": null,
       "grid_row": null,
       "grid_template_areas": null,
       "grid_template_columns": null,
       "grid_template_rows": null,
       "height": null,
       "justify_content": null,
       "justify_items": null,
       "left": null,
       "margin": null,
       "max_height": null,
       "max_width": null,
       "min_height": null,
       "min_width": null,
       "object_fit": null,
       "object_position": null,
       "order": null,
       "overflow": null,
       "overflow_x": null,
       "overflow_y": null,
       "padding": null,
       "right": null,
       "top": null,
       "visibility": null,
       "width": null
      }
     },
     "36b5564b97bc497ca963b333440645ac": {
      "model_module": "@jupyter-widgets/controls",
      "model_module_version": "1.5.0",
      "model_name": "HTMLModel",
      "state": {
       "_dom_classes": [],
       "_model_module": "@jupyter-widgets/controls",
       "_model_module_version": "1.5.0",
       "_model_name": "HTMLModel",
       "_view_count": null,
       "_view_module": "@jupyter-widgets/controls",
       "_view_module_version": "1.5.0",
       "_view_name": "HTMLView",
       "description": "",
       "description_tooltip": null,
       "layout": "IPY_MODEL_3db7811630974c30bc34aa948591ef1a",
       "placeholder": "​",
       "style": "IPY_MODEL_173e644a820f4362b975ca6710b53d4b",
       "value": "tokenizer_config.json: 100%"
      }
     },
     "3c21b2f6f5d74398806cbe3c6caca3df": {
      "model_module": "@jupyter-widgets/controls",
      "model_module_version": "1.5.0",
      "model_name": "HTMLModel",
      "state": {
       "_dom_classes": [],
       "_model_module": "@jupyter-widgets/controls",
       "_model_module_version": "1.5.0",
       "_model_name": "HTMLModel",
       "_view_count": null,
       "_view_module": "@jupyter-widgets/controls",
       "_view_module_version": "1.5.0",
       "_view_name": "HTMLView",
       "description": "",
       "description_tooltip": null,
       "layout": "IPY_MODEL_69c08a62631d4b849f411300bb67009d",
       "placeholder": "​",
       "style": "IPY_MODEL_e61621f22d964dddb8418300f61d987b",
       "value": " 52.0/52.0 [00:00&lt;00:00, 4.46kB/s]"
      }
     },
     "3d578e1c27d64bdda3a15a4c5ea221f9": {
      "model_module": "@jupyter-widgets/base",
      "model_module_version": "1.2.0",
      "model_name": "LayoutModel",
      "state": {
       "_model_module": "@jupyter-widgets/base",
       "_model_module_version": "1.2.0",
       "_model_name": "LayoutModel",
       "_view_count": null,
       "_view_module": "@jupyter-widgets/base",
       "_view_module_version": "1.2.0",
       "_view_name": "LayoutView",
       "align_content": null,
       "align_items": null,
       "align_self": null,
       "border": null,
       "bottom": null,
       "display": null,
       "flex": null,
       "flex_flow": null,
       "grid_area": null,
       "grid_auto_columns": null,
       "grid_auto_flow": null,
       "grid_auto_rows": null,
       "grid_column": null,
       "grid_gap": null,
       "grid_row": null,
       "grid_template_areas": null,
       "grid_template_columns": null,
       "grid_template_rows": null,
       "height": null,
       "justify_content": null,
       "justify_items": null,
       "left": null,
       "margin": null,
       "max_height": null,
       "max_width": null,
       "min_height": null,
       "min_width": null,
       "object_fit": null,
       "object_position": null,
       "order": null,
       "overflow": null,
       "overflow_x": null,
       "overflow_y": null,
       "padding": null,
       "right": null,
       "top": null,
       "visibility": null,
       "width": null
      }
     },
     "3db7811630974c30bc34aa948591ef1a": {
      "model_module": "@jupyter-widgets/base",
      "model_module_version": "1.2.0",
      "model_name": "LayoutModel",
      "state": {
       "_model_module": "@jupyter-widgets/base",
       "_model_module_version": "1.2.0",
       "_model_name": "LayoutModel",
       "_view_count": null,
       "_view_module": "@jupyter-widgets/base",
       "_view_module_version": "1.2.0",
       "_view_name": "LayoutView",
       "align_content": null,
       "align_items": null,
       "align_self": null,
       "border": null,
       "bottom": null,
       "display": null,
       "flex": null,
       "flex_flow": null,
       "grid_area": null,
       "grid_auto_columns": null,
       "grid_auto_flow": null,
       "grid_auto_rows": null,
       "grid_column": null,
       "grid_gap": null,
       "grid_row": null,
       "grid_template_areas": null,
       "grid_template_columns": null,
       "grid_template_rows": null,
       "height": null,
       "justify_content": null,
       "justify_items": null,
       "left": null,
       "margin": null,
       "max_height": null,
       "max_width": null,
       "min_height": null,
       "min_width": null,
       "object_fit": null,
       "object_position": null,
       "order": null,
       "overflow": null,
       "overflow_x": null,
       "overflow_y": null,
       "padding": null,
       "right": null,
       "top": null,
       "visibility": null,
       "width": null
      }
     },
     "3e6f2daf5f2e4f4eaa16e1339b26d9a0": {
      "model_module": "@jupyter-widgets/base",
      "model_module_version": "1.2.0",
      "model_name": "LayoutModel",
      "state": {
       "_model_module": "@jupyter-widgets/base",
       "_model_module_version": "1.2.0",
       "_model_name": "LayoutModel",
       "_view_count": null,
       "_view_module": "@jupyter-widgets/base",
       "_view_module_version": "1.2.0",
       "_view_name": "LayoutView",
       "align_content": null,
       "align_items": null,
       "align_self": null,
       "border": null,
       "bottom": null,
       "display": null,
       "flex": null,
       "flex_flow": null,
       "grid_area": null,
       "grid_auto_columns": null,
       "grid_auto_flow": null,
       "grid_auto_rows": null,
       "grid_column": null,
       "grid_gap": null,
       "grid_row": null,
       "grid_template_areas": null,
       "grid_template_columns": null,
       "grid_template_rows": null,
       "height": null,
       "justify_content": null,
       "justify_items": null,
       "left": null,
       "margin": null,
       "max_height": null,
       "max_width": null,
       "min_height": null,
       "min_width": null,
       "object_fit": null,
       "object_position": null,
       "order": null,
       "overflow": null,
       "overflow_x": null,
       "overflow_y": null,
       "padding": null,
       "right": null,
       "top": null,
       "visibility": null,
       "width": null
      }
     },
     "3f81b369508e46eea53314a191bbbc84": {
      "model_module": "@jupyter-widgets/controls",
      "model_module_version": "1.5.0",
      "model_name": "DescriptionStyleModel",
      "state": {
       "_model_module": "@jupyter-widgets/controls",
       "_model_module_version": "1.5.0",
       "_model_name": "DescriptionStyleModel",
       "_view_count": null,
       "_view_module": "@jupyter-widgets/base",
       "_view_module_version": "1.2.0",
       "_view_name": "StyleView",
       "description_width": ""
      }
     },
     "4162a65f7ad2449bb08f8ee8e49f32ff": {
      "model_module": "@jupyter-widgets/controls",
      "model_module_version": "1.5.0",
      "model_name": "HBoxModel",
      "state": {
       "_dom_classes": [],
       "_model_module": "@jupyter-widgets/controls",
       "_model_module_version": "1.5.0",
       "_model_name": "HBoxModel",
       "_view_count": null,
       "_view_module": "@jupyter-widgets/controls",
       "_view_module_version": "1.5.0",
       "_view_name": "HBoxView",
       "box_style": "",
       "children": [
        "IPY_MODEL_a50fe120d6e64488911ba9ea170ff319",
        "IPY_MODEL_b9d4a7b7d7e444be99d5528e67afa2f7",
        "IPY_MODEL_a8d5837a10704aae82cdc8b33b78edc4"
       ],
       "layout": "IPY_MODEL_fd6996be603744d6b218f67ba1e46629"
      }
     },
     "4b9a27c48b9e4a60b9b8d406bc8d3ebd": {
      "model_module": "@jupyter-widgets/controls",
      "model_module_version": "1.5.0",
      "model_name": "HBoxModel",
      "state": {
       "_dom_classes": [],
       "_model_module": "@jupyter-widgets/controls",
       "_model_module_version": "1.5.0",
       "_model_name": "HBoxModel",
       "_view_count": null,
       "_view_module": "@jupyter-widgets/controls",
       "_view_module_version": "1.5.0",
       "_view_name": "HBoxView",
       "box_style": "",
       "children": [
        "IPY_MODEL_5bc469178a554ec7b9424ad868f1df6b",
        "IPY_MODEL_ce212ea16b8e4b819efbce7c825ff7dc",
        "IPY_MODEL_d37ecda2f18d4a5ca6b3ad3ede8fde68"
       ],
       "layout": "IPY_MODEL_a3dfccf1ac244e6aa8a429ecf6229ceb"
      }
     },
     "4c9ecee8977c42ffa307e6b89a9004cd": {
      "model_module": "@jupyter-widgets/controls",
      "model_module_version": "1.5.0",
      "model_name": "DescriptionStyleModel",
      "state": {
       "_model_module": "@jupyter-widgets/controls",
       "_model_module_version": "1.5.0",
       "_model_name": "DescriptionStyleModel",
       "_view_count": null,
       "_view_module": "@jupyter-widgets/base",
       "_view_module_version": "1.2.0",
       "_view_name": "StyleView",
       "description_width": ""
      }
     },
     "4f77df275fb1490c8a1d54b6f06b5fa7": {
      "model_module": "@jupyter-widgets/base",
      "model_module_version": "1.2.0",
      "model_name": "LayoutModel",
      "state": {
       "_model_module": "@jupyter-widgets/base",
       "_model_module_version": "1.2.0",
       "_model_name": "LayoutModel",
       "_view_count": null,
       "_view_module": "@jupyter-widgets/base",
       "_view_module_version": "1.2.0",
       "_view_name": "LayoutView",
       "align_content": null,
       "align_items": null,
       "align_self": null,
       "border": null,
       "bottom": null,
       "display": null,
       "flex": null,
       "flex_flow": null,
       "grid_area": null,
       "grid_auto_columns": null,
       "grid_auto_flow": null,
       "grid_auto_rows": null,
       "grid_column": null,
       "grid_gap": null,
       "grid_row": null,
       "grid_template_areas": null,
       "grid_template_columns": null,
       "grid_template_rows": null,
       "height": null,
       "justify_content": null,
       "justify_items": null,
       "left": null,
       "margin": null,
       "max_height": null,
       "max_width": null,
       "min_height": null,
       "min_width": null,
       "object_fit": null,
       "object_position": null,
       "order": null,
       "overflow": null,
       "overflow_x": null,
       "overflow_y": null,
       "padding": null,
       "right": null,
       "top": null,
       "visibility": null,
       "width": null
      }
     },
     "562d71ed42974b059db52d77ee292a4f": {
      "model_module": "@jupyter-widgets/base",
      "model_module_version": "1.2.0",
      "model_name": "LayoutModel",
      "state": {
       "_model_module": "@jupyter-widgets/base",
       "_model_module_version": "1.2.0",
       "_model_name": "LayoutModel",
       "_view_count": null,
       "_view_module": "@jupyter-widgets/base",
       "_view_module_version": "1.2.0",
       "_view_name": "LayoutView",
       "align_content": null,
       "align_items": null,
       "align_self": null,
       "border": null,
       "bottom": null,
       "display": null,
       "flex": null,
       "flex_flow": null,
       "grid_area": null,
       "grid_auto_columns": null,
       "grid_auto_flow": null,
       "grid_auto_rows": null,
       "grid_column": null,
       "grid_gap": null,
       "grid_row": null,
       "grid_template_areas": null,
       "grid_template_columns": null,
       "grid_template_rows": null,
       "height": null,
       "justify_content": null,
       "justify_items": null,
       "left": null,
       "margin": null,
       "max_height": null,
       "max_width": null,
       "min_height": null,
       "min_width": null,
       "object_fit": null,
       "object_position": null,
       "order": null,
       "overflow": null,
       "overflow_x": null,
       "overflow_y": null,
       "padding": null,
       "right": null,
       "top": null,
       "visibility": null,
       "width": null
      }
     },
     "591d1e7c98e9449b92ec626df9ec9f04": {
      "model_module": "@jupyter-widgets/controls",
      "model_module_version": "1.5.0",
      "model_name": "ProgressStyleModel",
      "state": {
       "_model_module": "@jupyter-widgets/controls",
       "_model_module_version": "1.5.0",
       "_model_name": "ProgressStyleModel",
       "_view_count": null,
       "_view_module": "@jupyter-widgets/base",
       "_view_module_version": "1.2.0",
       "_view_name": "StyleView",
       "bar_color": null,
       "description_width": ""
      }
     },
     "5bc469178a554ec7b9424ad868f1df6b": {
      "model_module": "@jupyter-widgets/controls",
      "model_module_version": "1.5.0",
      "model_name": "HTMLModel",
      "state": {
       "_dom_classes": [],
       "_model_module": "@jupyter-widgets/controls",
       "_model_module_version": "1.5.0",
       "_model_name": "HTMLModel",
       "_view_count": null,
       "_view_module": "@jupyter-widgets/controls",
       "_view_module_version": "1.5.0",
       "_view_name": "HTMLView",
       "description": "",
       "description_tooltip": null,
       "layout": "IPY_MODEL_3e6f2daf5f2e4f4eaa16e1339b26d9a0",
       "placeholder": "​",
       "style": "IPY_MODEL_4c9ecee8977c42ffa307e6b89a9004cd",
       "value": "spm.model: 100%"
      }
     },
     "5d3dbb3d02ba488280c8fa0ad42a2227": {
      "model_module": "@jupyter-widgets/controls",
      "model_module_version": "1.5.0",
      "model_name": "FloatProgressModel",
      "state": {
       "_dom_classes": [],
       "_model_module": "@jupyter-widgets/controls",
       "_model_module_version": "1.5.0",
       "_model_name": "FloatProgressModel",
       "_view_count": null,
       "_view_module": "@jupyter-widgets/controls",
       "_view_module_version": "1.5.0",
       "_view_name": "ProgressView",
       "bar_style": "success",
       "description": "",
       "description_tooltip": null,
       "layout": "IPY_MODEL_562d71ed42974b059db52d77ee292a4f",
       "max": 52.0,
       "min": 0.0,
       "orientation": "horizontal",
       "style": "IPY_MODEL_f860c14e9373478284af84b06680d2d9",
       "value": 52.0
      }
     },
     "5dbf9f93e2c04663bee52205af4e00ca": {
      "model_module": "@jupyter-widgets/base",
      "model_module_version": "1.2.0",
      "model_name": "LayoutModel",
      "state": {
       "_model_module": "@jupyter-widgets/base",
       "_model_module_version": "1.2.0",
       "_model_name": "LayoutModel",
       "_view_count": null,
       "_view_module": "@jupyter-widgets/base",
       "_view_module_version": "1.2.0",
       "_view_name": "LayoutView",
       "align_content": null,
       "align_items": null,
       "align_self": null,
       "border": null,
       "bottom": null,
       "display": null,
       "flex": null,
       "flex_flow": null,
       "grid_area": null,
       "grid_auto_columns": null,
       "grid_auto_flow": null,
       "grid_auto_rows": null,
       "grid_column": null,
       "grid_gap": null,
       "grid_row": null,
       "grid_template_areas": null,
       "grid_template_columns": null,
       "grid_template_rows": null,
       "height": null,
       "justify_content": null,
       "justify_items": null,
       "left": null,
       "margin": null,
       "max_height": null,
       "max_width": null,
       "min_height": null,
       "min_width": null,
       "object_fit": null,
       "object_position": null,
       "order": null,
       "overflow": null,
       "overflow_x": null,
       "overflow_y": null,
       "padding": null,
       "right": null,
       "top": null,
       "visibility": null,
       "width": null
      }
     },
     "5de8d6f7fceb4d189bde2d28674a6220": {
      "model_module": "@jupyter-widgets/controls",
      "model_module_version": "1.5.0",
      "model_name": "HBoxModel",
      "state": {
       "_dom_classes": [],
       "_model_module": "@jupyter-widgets/controls",
       "_model_module_version": "1.5.0",
       "_model_name": "HBoxModel",
       "_view_count": null,
       "_view_module": "@jupyter-widgets/controls",
       "_view_module_version": "1.5.0",
       "_view_name": "HBoxView",
       "box_style": "",
       "children": [
        "IPY_MODEL_712cabbeb07046db9e3dafbfc2e4b627",
        "IPY_MODEL_f7819d08e63e4b76a8aa891a3772a83b",
        "IPY_MODEL_7a1c5398cc374ef08244982b1c2864cd"
       ],
       "layout": "IPY_MODEL_2d87b80bfcdb493d942f98b87d677517"
      }
     },
     "615e0a1b91dc4aa2a83537c855115c93": {
      "model_module": "@jupyter-widgets/controls",
      "model_module_version": "1.5.0",
      "model_name": "ProgressStyleModel",
      "state": {
       "_model_module": "@jupyter-widgets/controls",
       "_model_module_version": "1.5.0",
       "_model_name": "ProgressStyleModel",
       "_view_count": null,
       "_view_module": "@jupyter-widgets/base",
       "_view_module_version": "1.2.0",
       "_view_name": "StyleView",
       "bar_color": null,
       "description_width": ""
      }
     },
     "62b7da932c434f618f334117d9766a5e": {
      "model_module": "@jupyter-widgets/controls",
      "model_module_version": "1.5.0",
      "model_name": "DescriptionStyleModel",
      "state": {
       "_model_module": "@jupyter-widgets/controls",
       "_model_module_version": "1.5.0",
       "_model_name": "DescriptionStyleModel",
       "_view_count": null,
       "_view_module": "@jupyter-widgets/base",
       "_view_module_version": "1.2.0",
       "_view_name": "StyleView",
       "description_width": ""
      }
     },
     "68e58b9a0b1f4d02b25c2b9e20aa673b": {
      "model_module": "@jupyter-widgets/controls",
      "model_module_version": "1.5.0",
      "model_name": "DescriptionStyleModel",
      "state": {
       "_model_module": "@jupyter-widgets/controls",
       "_model_module_version": "1.5.0",
       "_model_name": "DescriptionStyleModel",
       "_view_count": null,
       "_view_module": "@jupyter-widgets/base",
       "_view_module_version": "1.2.0",
       "_view_name": "StyleView",
       "description_width": ""
      }
     },
     "69c08a62631d4b849f411300bb67009d": {
      "model_module": "@jupyter-widgets/base",
      "model_module_version": "1.2.0",
      "model_name": "LayoutModel",
      "state": {
       "_model_module": "@jupyter-widgets/base",
       "_model_module_version": "1.2.0",
       "_model_name": "LayoutModel",
       "_view_count": null,
       "_view_module": "@jupyter-widgets/base",
       "_view_module_version": "1.2.0",
       "_view_name": "LayoutView",
       "align_content": null,
       "align_items": null,
       "align_self": null,
       "border": null,
       "bottom": null,
       "display": null,
       "flex": null,
       "flex_flow": null,
       "grid_area": null,
       "grid_auto_columns": null,
       "grid_auto_flow": null,
       "grid_auto_rows": null,
       "grid_column": null,
       "grid_gap": null,
       "grid_row": null,
       "grid_template_areas": null,
       "grid_template_columns": null,
       "grid_template_rows": null,
       "height": null,
       "justify_content": null,
       "justify_items": null,
       "left": null,
       "margin": null,
       "max_height": null,
       "max_width": null,
       "min_height": null,
       "min_width": null,
       "object_fit": null,
       "object_position": null,
       "order": null,
       "overflow": null,
       "overflow_x": null,
       "overflow_y": null,
       "padding": null,
       "right": null,
       "top": null,
       "visibility": null,
       "width": null
      }
     },
     "7092ae87fc8344a1883230575f38ac85": {
      "model_module": "@jupyter-widgets/base",
      "model_module_version": "1.2.0",
      "model_name": "LayoutModel",
      "state": {
       "_model_module": "@jupyter-widgets/base",
       "_model_module_version": "1.2.0",
       "_model_name": "LayoutModel",
       "_view_count": null,
       "_view_module": "@jupyter-widgets/base",
       "_view_module_version": "1.2.0",
       "_view_name": "LayoutView",
       "align_content": null,
       "align_items": null,
       "align_self": null,
       "border": null,
       "bottom": null,
       "display": null,
       "flex": null,
       "flex_flow": null,
       "grid_area": null,
       "grid_auto_columns": null,
       "grid_auto_flow": null,
       "grid_auto_rows": null,
       "grid_column": null,
       "grid_gap": null,
       "grid_row": null,
       "grid_template_areas": null,
       "grid_template_columns": null,
       "grid_template_rows": null,
       "height": null,
       "justify_content": null,
       "justify_items": null,
       "left": null,
       "margin": null,
       "max_height": null,
       "max_width": null,
       "min_height": null,
       "min_width": null,
       "object_fit": null,
       "object_position": null,
       "order": null,
       "overflow": null,
       "overflow_x": null,
       "overflow_y": null,
       "padding": null,
       "right": null,
       "top": null,
       "visibility": null,
       "width": null
      }
     },
     "712cabbeb07046db9e3dafbfc2e4b627": {
      "model_module": "@jupyter-widgets/controls",
      "model_module_version": "1.5.0",
      "model_name": "HTMLModel",
      "state": {
       "_dom_classes": [],
       "_model_module": "@jupyter-widgets/controls",
       "_model_module_version": "1.5.0",
       "_model_name": "HTMLModel",
       "_view_count": null,
       "_view_module": "@jupyter-widgets/controls",
       "_view_module_version": "1.5.0",
       "_view_name": "HTMLView",
       "description": "",
       "description_tooltip": null,
       "layout": "IPY_MODEL_4f77df275fb1490c8a1d54b6f06b5fa7",
       "placeholder": "​",
       "style": "IPY_MODEL_b7072584937a4fca95cf025d4f0180ec",
       "value": "Map: 100%"
      }
     },
     "737fd1cbc0df4861aeacfd30b761a4b2": {
      "model_module": "@jupyter-widgets/controls",
      "model_module_version": "1.5.0",
      "model_name": "HBoxModel",
      "state": {
       "_dom_classes": [],
       "_model_module": "@jupyter-widgets/controls",
       "_model_module_version": "1.5.0",
       "_model_name": "HBoxModel",
       "_view_count": null,
       "_view_module": "@jupyter-widgets/controls",
       "_view_module_version": "1.5.0",
       "_view_name": "HBoxView",
       "box_style": "",
       "children": [
        "IPY_MODEL_36b5564b97bc497ca963b333440645ac",
        "IPY_MODEL_5d3dbb3d02ba488280c8fa0ad42a2227",
        "IPY_MODEL_3c21b2f6f5d74398806cbe3c6caca3df"
       ],
       "layout": "IPY_MODEL_8bd64ad7cfe44cb28508cff58a3a8d2c"
      }
     },
     "75d63d40368e4a8d9264746383a82748": {
      "model_module": "@jupyter-widgets/controls",
      "model_module_version": "1.5.0",
      "model_name": "DescriptionStyleModel",
      "state": {
       "_model_module": "@jupyter-widgets/controls",
       "_model_module_version": "1.5.0",
       "_model_name": "DescriptionStyleModel",
       "_view_count": null,
       "_view_module": "@jupyter-widgets/base",
       "_view_module_version": "1.2.0",
       "_view_name": "StyleView",
       "description_width": ""
      }
     },
     "783983f45a0e487590ad2212af6885d4": {
      "model_module": "@jupyter-widgets/base",
      "model_module_version": "1.2.0",
      "model_name": "LayoutModel",
      "state": {
       "_model_module": "@jupyter-widgets/base",
       "_model_module_version": "1.2.0",
       "_model_name": "LayoutModel",
       "_view_count": null,
       "_view_module": "@jupyter-widgets/base",
       "_view_module_version": "1.2.0",
       "_view_name": "LayoutView",
       "align_content": null,
       "align_items": null,
       "align_self": null,
       "border": null,
       "bottom": null,
       "display": null,
       "flex": null,
       "flex_flow": null,
       "grid_area": null,
       "grid_auto_columns": null,
       "grid_auto_flow": null,
       "grid_auto_rows": null,
       "grid_column": null,
       "grid_gap": null,
       "grid_row": null,
       "grid_template_areas": null,
       "grid_template_columns": null,
       "grid_template_rows": null,
       "height": null,
       "justify_content": null,
       "justify_items": null,
       "left": null,
       "margin": null,
       "max_height": null,
       "max_width": null,
       "min_height": null,
       "min_width": null,
       "object_fit": null,
       "object_position": null,
       "order": null,
       "overflow": null,
       "overflow_x": null,
       "overflow_y": null,
       "padding": null,
       "right": null,
       "top": null,
       "visibility": null,
       "width": null
      }
     },
     "7a1c5398cc374ef08244982b1c2864cd": {
      "model_module": "@jupyter-widgets/controls",
      "model_module_version": "1.5.0",
      "model_name": "HTMLModel",
      "state": {
       "_dom_classes": [],
       "_model_module": "@jupyter-widgets/controls",
       "_model_module_version": "1.5.0",
       "_model_name": "HTMLModel",
       "_view_count": null,
       "_view_module": "@jupyter-widgets/controls",
       "_view_module_version": "1.5.0",
       "_view_name": "HTMLView",
       "description": "",
       "description_tooltip": null,
       "layout": "IPY_MODEL_17f3404194594dd495ddb81970abcf5c",
       "placeholder": "​",
       "style": "IPY_MODEL_3f81b369508e46eea53314a191bbbc84",
       "value": " 36473/36473 [00:01&lt;00:00, 21732.40 examples/s]"
      }
     },
     "80e44fcf2e7e43d6a4987754ecc43b7c": {
      "model_module": "@jupyter-widgets/controls",
      "model_module_version": "1.5.0",
      "model_name": "FloatProgressModel",
      "state": {
       "_dom_classes": [],
       "_model_module": "@jupyter-widgets/controls",
       "_model_module_version": "1.5.0",
       "_model_name": "FloatProgressModel",
       "_view_count": null,
       "_view_module": "@jupyter-widgets/controls",
       "_view_module_version": "1.5.0",
       "_view_name": "ProgressView",
       "bar_style": "success",
       "description": "",
       "description_tooltip": null,
       "layout": "IPY_MODEL_075afe72ad9a46b1a95c308e6b9428f6",
       "max": 36.0,
       "min": 0.0,
       "orientation": "horizontal",
       "style": "IPY_MODEL_b3cdf94ec9944af1a675c75ab3788165",
       "value": 36.0
      }
     },
     "822242a50ee3412e82d0dcc259f1f53f": {
      "model_module": "@jupyter-widgets/base",
      "model_module_version": "1.2.0",
      "model_name": "LayoutModel",
      "state": {
       "_model_module": "@jupyter-widgets/base",
       "_model_module_version": "1.2.0",
       "_model_name": "LayoutModel",
       "_view_count": null,
       "_view_module": "@jupyter-widgets/base",
       "_view_module_version": "1.2.0",
       "_view_name": "LayoutView",
       "align_content": null,
       "align_items": null,
       "align_self": null,
       "border": null,
       "bottom": null,
       "display": null,
       "flex": null,
       "flex_flow": null,
       "grid_area": null,
       "grid_auto_columns": null,
       "grid_auto_flow": null,
       "grid_auto_rows": null,
       "grid_column": null,
       "grid_gap": null,
       "grid_row": null,
       "grid_template_areas": null,
       "grid_template_columns": null,
       "grid_template_rows": null,
       "height": null,
       "justify_content": null,
       "justify_items": null,
       "left": null,
       "margin": null,
       "max_height": null,
       "max_width": null,
       "min_height": null,
       "min_width": null,
       "object_fit": null,
       "object_position": null,
       "order": null,
       "overflow": null,
       "overflow_x": null,
       "overflow_y": null,
       "padding": null,
       "right": null,
       "top": null,
       "visibility": null,
       "width": null
      }
     },
     "889a249b118b43bd8b15536b9774ae6a": {
      "model_module": "@jupyter-widgets/controls",
      "model_module_version": "1.5.0",
      "model_name": "DescriptionStyleModel",
      "state": {
       "_model_module": "@jupyter-widgets/controls",
       "_model_module_version": "1.5.0",
       "_model_name": "DescriptionStyleModel",
       "_view_count": null,
       "_view_module": "@jupyter-widgets/base",
       "_view_module_version": "1.2.0",
       "_view_name": "StyleView",
       "description_width": ""
      }
     },
     "894c4c07ea6b4782bf842b75183fc9d4": {
      "model_module": "@jupyter-widgets/controls",
      "model_module_version": "1.5.0",
      "model_name": "DescriptionStyleModel",
      "state": {
       "_model_module": "@jupyter-widgets/controls",
       "_model_module_version": "1.5.0",
       "_model_name": "DescriptionStyleModel",
       "_view_count": null,
       "_view_module": "@jupyter-widgets/base",
       "_view_module_version": "1.2.0",
       "_view_name": "StyleView",
       "description_width": ""
      }
     },
     "8b9cd485e15a4fa4982fe8143705652f": {
      "model_module": "@jupyter-widgets/controls",
      "model_module_version": "1.5.0",
      "model_name": "DescriptionStyleModel",
      "state": {
       "_model_module": "@jupyter-widgets/controls",
       "_model_module_version": "1.5.0",
       "_model_name": "DescriptionStyleModel",
       "_view_count": null,
       "_view_module": "@jupyter-widgets/base",
       "_view_module_version": "1.2.0",
       "_view_name": "StyleView",
       "description_width": ""
      }
     },
     "8bd64ad7cfe44cb28508cff58a3a8d2c": {
      "model_module": "@jupyter-widgets/base",
      "model_module_version": "1.2.0",
      "model_name": "LayoutModel",
      "state": {
       "_model_module": "@jupyter-widgets/base",
       "_model_module_version": "1.2.0",
       "_model_name": "LayoutModel",
       "_view_count": null,
       "_view_module": "@jupyter-widgets/base",
       "_view_module_version": "1.2.0",
       "_view_name": "LayoutView",
       "align_content": null,
       "align_items": null,
       "align_self": null,
       "border": null,
       "bottom": null,
       "display": null,
       "flex": null,
       "flex_flow": null,
       "grid_area": null,
       "grid_auto_columns": null,
       "grid_auto_flow": null,
       "grid_auto_rows": null,
       "grid_column": null,
       "grid_gap": null,
       "grid_row": null,
       "grid_template_areas": null,
       "grid_template_columns": null,
       "grid_template_rows": null,
       "height": null,
       "justify_content": null,
       "justify_items": null,
       "left": null,
       "margin": null,
       "max_height": null,
       "max_width": null,
       "min_height": null,
       "min_width": null,
       "object_fit": null,
       "object_position": null,
       "order": null,
       "overflow": null,
       "overflow_x": null,
       "overflow_y": null,
       "padding": null,
       "right": null,
       "top": null,
       "visibility": null,
       "width": null
      }
     },
     "905e4caf52264b0c8ea8b3793628e05b": {
      "model_module": "@jupyter-widgets/controls",
      "model_module_version": "1.5.0",
      "model_name": "HBoxModel",
      "state": {
       "_dom_classes": [],
       "_model_module": "@jupyter-widgets/controls",
       "_model_module_version": "1.5.0",
       "_model_name": "HBoxModel",
       "_view_count": null,
       "_view_module": "@jupyter-widgets/controls",
       "_view_module_version": "1.5.0",
       "_view_name": "HBoxView",
       "box_style": "",
       "children": [
        "IPY_MODEL_0cf79e993bcc43f3b09d01fb25c1a8b6",
        "IPY_MODEL_80e44fcf2e7e43d6a4987754ecc43b7c",
        "IPY_MODEL_f8aaa95d9c4d43a2aa363aaef3ecbdc9"
       ],
       "layout": "IPY_MODEL_21ce0306c7ea4f94ba0e1348f6bc0ef2"
      }
     },
     "9aa5b6ef18284cddbd7a58752d2156e2": {
      "model_module": "@jupyter-widgets/base",
      "model_module_version": "1.2.0",
      "model_name": "LayoutModel",
      "state": {
       "_model_module": "@jupyter-widgets/base",
       "_model_module_version": "1.2.0",
       "_model_name": "LayoutModel",
       "_view_count": null,
       "_view_module": "@jupyter-widgets/base",
       "_view_module_version": "1.2.0",
       "_view_name": "LayoutView",
       "align_content": null,
       "align_items": null,
       "align_self": null,
       "border": null,
       "bottom": null,
       "display": null,
       "flex": null,
       "flex_flow": null,
       "grid_area": null,
       "grid_auto_columns": null,
       "grid_auto_flow": null,
       "grid_auto_rows": null,
       "grid_column": null,
       "grid_gap": null,
       "grid_row": null,
       "grid_template_areas": null,
       "grid_template_columns": null,
       "grid_template_rows": null,
       "height": null,
       "justify_content": null,
       "justify_items": null,
       "left": null,
       "margin": null,
       "max_height": null,
       "max_width": null,
       "min_height": null,
       "min_width": null,
       "object_fit": null,
       "object_position": null,
       "order": null,
       "overflow": null,
       "overflow_x": null,
       "overflow_y": null,
       "padding": null,
       "right": null,
       "top": null,
       "visibility": null,
       "width": null
      }
     },
     "9c955c51f6bb4e54b371322f84dc6739": {
      "model_module": "@jupyter-widgets/controls",
      "model_module_version": "1.5.0",
      "model_name": "ProgressStyleModel",
      "state": {
       "_model_module": "@jupyter-widgets/controls",
       "_model_module_version": "1.5.0",
       "_model_name": "ProgressStyleModel",
       "_view_count": null,
       "_view_module": "@jupyter-widgets/base",
       "_view_module_version": "1.2.0",
       "_view_name": "StyleView",
       "bar_color": null,
       "description_width": ""
      }
     },
     "9d508549d9ee478983c7b1b61ecff6c9": {
      "model_module": "@jupyter-widgets/controls",
      "model_module_version": "1.5.0",
      "model_name": "DescriptionStyleModel",
      "state": {
       "_model_module": "@jupyter-widgets/controls",
       "_model_module_version": "1.5.0",
       "_model_name": "DescriptionStyleModel",
       "_view_count": null,
       "_view_module": "@jupyter-widgets/base",
       "_view_module_version": "1.2.0",
       "_view_name": "StyleView",
       "description_width": ""
      }
     },
     "a096697ee81f4362838878603a8c36fc": {
      "model_module": "@jupyter-widgets/controls",
      "model_module_version": "1.5.0",
      "model_name": "FloatProgressModel",
      "state": {
       "_dom_classes": [],
       "_model_module": "@jupyter-widgets/controls",
       "_model_module_version": "1.5.0",
       "_model_name": "FloatProgressModel",
       "_view_count": null,
       "_view_module": "@jupyter-widgets/controls",
       "_view_module_version": "1.5.0",
       "_view_name": "ProgressView",
       "bar_style": "success",
       "description": "",
       "description_tooltip": null,
       "layout": "IPY_MODEL_cb1aec93c3f14446a30c454a1098d6fb",
       "max": 578.0,
       "min": 0.0,
       "orientation": "horizontal",
       "style": "IPY_MODEL_9c955c51f6bb4e54b371322f84dc6739",
       "value": 578.0
      }
     },
     "a3dfccf1ac244e6aa8a429ecf6229ceb": {
      "model_module": "@jupyter-widgets/base",
      "model_module_version": "1.2.0",
      "model_name": "LayoutModel",
      "state": {
       "_model_module": "@jupyter-widgets/base",
       "_model_module_version": "1.2.0",
       "_model_name": "LayoutModel",
       "_view_count": null,
       "_view_module": "@jupyter-widgets/base",
       "_view_module_version": "1.2.0",
       "_view_name": "LayoutView",
       "align_content": null,
       "align_items": null,
       "align_self": null,
       "border": null,
       "bottom": null,
       "display": null,
       "flex": null,
       "flex_flow": null,
       "grid_area": null,
       "grid_auto_columns": null,
       "grid_auto_flow": null,
       "grid_auto_rows": null,
       "grid_column": null,
       "grid_gap": null,
       "grid_row": null,
       "grid_template_areas": null,
       "grid_template_columns": null,
       "grid_template_rows": null,
       "height": null,
       "justify_content": null,
       "justify_items": null,
       "left": null,
       "margin": null,
       "max_height": null,
       "max_width": null,
       "min_height": null,
       "min_width": null,
       "object_fit": null,
       "object_position": null,
       "order": null,
       "overflow": null,
       "overflow_x": null,
       "overflow_y": null,
       "padding": null,
       "right": null,
       "top": null,
       "visibility": null,
       "width": null
      }
     },
     "a3f9b7e1f7f5425e945560b02f8bdb13": {
      "model_module": "@jupyter-widgets/controls",
      "model_module_version": "1.5.0",
      "model_name": "HTMLModel",
      "state": {
       "_dom_classes": [],
       "_model_module": "@jupyter-widgets/controls",
       "_model_module_version": "1.5.0",
       "_model_name": "HTMLModel",
       "_view_count": null,
       "_view_module": "@jupyter-widgets/controls",
       "_view_module_version": "1.5.0",
       "_view_name": "HTMLView",
       "description": "",
       "description_tooltip": null,
       "layout": "IPY_MODEL_a72e6f9a3e6f46de9c1dee3c3a91d3cc",
       "placeholder": "​",
       "style": "IPY_MODEL_62b7da932c434f618f334117d9766a5e",
       "value": " 578/578 [00:00&lt;00:00, 52.8kB/s]"
      }
     },
     "a4626062abc246289931ebb2f97961ca": {
      "model_module": "@jupyter-widgets/controls",
      "model_module_version": "1.5.0",
      "model_name": "DescriptionStyleModel",
      "state": {
       "_model_module": "@jupyter-widgets/controls",
       "_model_module_version": "1.5.0",
       "_model_name": "DescriptionStyleModel",
       "_view_count": null,
       "_view_module": "@jupyter-widgets/base",
       "_view_module_version": "1.2.0",
       "_view_name": "StyleView",
       "description_width": ""
      }
     },
     "a50fe120d6e64488911ba9ea170ff319": {
      "model_module": "@jupyter-widgets/controls",
      "model_module_version": "1.5.0",
      "model_name": "HTMLModel",
      "state": {
       "_dom_classes": [],
       "_model_module": "@jupyter-widgets/controls",
       "_model_module_version": "1.5.0",
       "_model_name": "HTMLModel",
       "_view_count": null,
       "_view_module": "@jupyter-widgets/controls",
       "_view_module_version": "1.5.0",
       "_view_name": "HTMLView",
       "description": "",
       "description_tooltip": null,
       "layout": "IPY_MODEL_783983f45a0e487590ad2212af6885d4",
       "placeholder": "​",
       "style": "IPY_MODEL_894c4c07ea6b4782bf842b75183fc9d4",
       "value": "pytorch_model.bin: 100%"
      }
     },
     "a72e6f9a3e6f46de9c1dee3c3a91d3cc": {
      "model_module": "@jupyter-widgets/base",
      "model_module_version": "1.2.0",
      "model_name": "LayoutModel",
      "state": {
       "_model_module": "@jupyter-widgets/base",
       "_model_module_version": "1.2.0",
       "_model_name": "LayoutModel",
       "_view_count": null,
       "_view_module": "@jupyter-widgets/base",
       "_view_module_version": "1.2.0",
       "_view_name": "LayoutView",
       "align_content": null,
       "align_items": null,
       "align_self": null,
       "border": null,
       "bottom": null,
       "display": null,
       "flex": null,
       "flex_flow": null,
       "grid_area": null,
       "grid_auto_columns": null,
       "grid_auto_flow": null,
       "grid_auto_rows": null,
       "grid_column": null,
       "grid_gap": null,
       "grid_row": null,
       "grid_template_areas": null,
       "grid_template_columns": null,
       "grid_template_rows": null,
       "height": null,
       "justify_content": null,
       "justify_items": null,
       "left": null,
       "margin": null,
       "max_height": null,
       "max_width": null,
       "min_height": null,
       "min_width": null,
       "object_fit": null,
       "object_position": null,
       "order": null,
       "overflow": null,
       "overflow_x": null,
       "overflow_y": null,
       "padding": null,
       "right": null,
       "top": null,
       "visibility": null,
       "width": null
      }
     },
     "a8d5837a10704aae82cdc8b33b78edc4": {
      "model_module": "@jupyter-widgets/controls",
      "model_module_version": "1.5.0",
      "model_name": "HTMLModel",
      "state": {
       "_dom_classes": [],
       "_model_module": "@jupyter-widgets/controls",
       "_model_module_version": "1.5.0",
       "_model_name": "HTMLModel",
       "_view_count": null,
       "_view_module": "@jupyter-widgets/controls",
       "_view_module_version": "1.5.0",
       "_view_name": "HTMLView",
       "description": "",
       "description_tooltip": null,
       "layout": "IPY_MODEL_3d578e1c27d64bdda3a15a4c5ea221f9",
       "placeholder": "​",
       "style": "IPY_MODEL_889a249b118b43bd8b15536b9774ae6a",
       "value": " 286M/286M [00:01&lt;00:00, 198MB/s]"
      }
     },
     "ac30c8dc33884941b1c5000f1dff78c0": {
      "model_module": "@jupyter-widgets/controls",
      "model_module_version": "1.5.0",
      "model_name": "HBoxModel",
      "state": {
       "_dom_classes": [],
       "_model_module": "@jupyter-widgets/controls",
       "_model_module_version": "1.5.0",
       "_model_name": "HBoxModel",
       "_view_count": null,
       "_view_module": "@jupyter-widgets/controls",
       "_view_module_version": "1.5.0",
       "_view_name": "HBoxView",
       "box_style": "",
       "children": [
        "IPY_MODEL_bf67a6c68daf47068e4abe1978634ab0",
        "IPY_MODEL_a096697ee81f4362838878603a8c36fc",
        "IPY_MODEL_a3f9b7e1f7f5425e945560b02f8bdb13"
       ],
       "layout": "IPY_MODEL_b3b18b88d70f42af9ac4f4c9de1ac186"
      }
     },
     "b0eaec64d871443d9d8a764e06233449": {
      "model_module": "@jupyter-widgets/base",
      "model_module_version": "1.2.0",
      "model_name": "LayoutModel",
      "state": {
       "_model_module": "@jupyter-widgets/base",
       "_model_module_version": "1.2.0",
       "_model_name": "LayoutModel",
       "_view_count": null,
       "_view_module": "@jupyter-widgets/base",
       "_view_module_version": "1.2.0",
       "_view_name": "LayoutView",
       "align_content": null,
       "align_items": null,
       "align_self": null,
       "border": null,
       "bottom": null,
       "display": null,
       "flex": null,
       "flex_flow": null,
       "grid_area": null,
       "grid_auto_columns": null,
       "grid_auto_flow": null,
       "grid_auto_rows": null,
       "grid_column": null,
       "grid_gap": null,
       "grid_row": null,
       "grid_template_areas": null,
       "grid_template_columns": null,
       "grid_template_rows": null,
       "height": null,
       "justify_content": null,
       "justify_items": null,
       "left": null,
       "margin": null,
       "max_height": null,
       "max_width": null,
       "min_height": null,
       "min_width": null,
       "object_fit": null,
       "object_position": null,
       "order": null,
       "overflow": null,
       "overflow_x": null,
       "overflow_y": null,
       "padding": null,
       "right": null,
       "top": null,
       "visibility": null,
       "width": null
      }
     },
     "b3b18b88d70f42af9ac4f4c9de1ac186": {
      "model_module": "@jupyter-widgets/base",
      "model_module_version": "1.2.0",
      "model_name": "LayoutModel",
      "state": {
       "_model_module": "@jupyter-widgets/base",
       "_model_module_version": "1.2.0",
       "_model_name": "LayoutModel",
       "_view_count": null,
       "_view_module": "@jupyter-widgets/base",
       "_view_module_version": "1.2.0",
       "_view_name": "LayoutView",
       "align_content": null,
       "align_items": null,
       "align_self": null,
       "border": null,
       "bottom": null,
       "display": null,
       "flex": null,
       "flex_flow": null,
       "grid_area": null,
       "grid_auto_columns": null,
       "grid_auto_flow": null,
       "grid_auto_rows": null,
       "grid_column": null,
       "grid_gap": null,
       "grid_row": null,
       "grid_template_areas": null,
       "grid_template_columns": null,
       "grid_template_rows": null,
       "height": null,
       "justify_content": null,
       "justify_items": null,
       "left": null,
       "margin": null,
       "max_height": null,
       "max_width": null,
       "min_height": null,
       "min_width": null,
       "object_fit": null,
       "object_position": null,
       "order": null,
       "overflow": null,
       "overflow_x": null,
       "overflow_y": null,
       "padding": null,
       "right": null,
       "top": null,
       "visibility": null,
       "width": null
      }
     },
     "b3cdf94ec9944af1a675c75ab3788165": {
      "model_module": "@jupyter-widgets/controls",
      "model_module_version": "1.5.0",
      "model_name": "ProgressStyleModel",
      "state": {
       "_model_module": "@jupyter-widgets/controls",
       "_model_module_version": "1.5.0",
       "_model_name": "ProgressStyleModel",
       "_view_count": null,
       "_view_module": "@jupyter-widgets/base",
       "_view_module_version": "1.2.0",
       "_view_name": "StyleView",
       "bar_color": null,
       "description_width": ""
      }
     },
     "b7072584937a4fca95cf025d4f0180ec": {
      "model_module": "@jupyter-widgets/controls",
      "model_module_version": "1.5.0",
      "model_name": "DescriptionStyleModel",
      "state": {
       "_model_module": "@jupyter-widgets/controls",
       "_model_module_version": "1.5.0",
       "_model_name": "DescriptionStyleModel",
       "_view_count": null,
       "_view_module": "@jupyter-widgets/base",
       "_view_module_version": "1.2.0",
       "_view_name": "StyleView",
       "description_width": ""
      }
     },
     "b9d4a7b7d7e444be99d5528e67afa2f7": {
      "model_module": "@jupyter-widgets/controls",
      "model_module_version": "1.5.0",
      "model_name": "FloatProgressModel",
      "state": {
       "_dom_classes": [],
       "_model_module": "@jupyter-widgets/controls",
       "_model_module_version": "1.5.0",
       "_model_name": "FloatProgressModel",
       "_view_count": null,
       "_view_module": "@jupyter-widgets/controls",
       "_view_module_version": "1.5.0",
       "_view_name": "ProgressView",
       "bar_style": "success",
       "description": "",
       "description_tooltip": null,
       "layout": "IPY_MODEL_c394f43d079546d4a530e29e0deede54",
       "max": 286059269.0,
       "min": 0.0,
       "orientation": "horizontal",
       "style": "IPY_MODEL_591d1e7c98e9449b92ec626df9ec9f04",
       "value": 286059269.0
      }
     },
     "bf67a6c68daf47068e4abe1978634ab0": {
      "model_module": "@jupyter-widgets/controls",
      "model_module_version": "1.5.0",
      "model_name": "HTMLModel",
      "state": {
       "_dom_classes": [],
       "_model_module": "@jupyter-widgets/controls",
       "_model_module_version": "1.5.0",
       "_model_name": "HTMLModel",
       "_view_count": null,
       "_view_module": "@jupyter-widgets/controls",
       "_view_module_version": "1.5.0",
       "_view_name": "HTMLView",
       "description": "",
       "description_tooltip": null,
       "layout": "IPY_MODEL_7092ae87fc8344a1883230575f38ac85",
       "placeholder": "​",
       "style": "IPY_MODEL_68e58b9a0b1f4d02b25c2b9e20aa673b",
       "value": "config.json: 100%"
      }
     },
     "c394f43d079546d4a530e29e0deede54": {
      "model_module": "@jupyter-widgets/base",
      "model_module_version": "1.2.0",
      "model_name": "LayoutModel",
      "state": {
       "_model_module": "@jupyter-widgets/base",
       "_model_module_version": "1.2.0",
       "_model_name": "LayoutModel",
       "_view_count": null,
       "_view_module": "@jupyter-widgets/base",
       "_view_module_version": "1.2.0",
       "_view_name": "LayoutView",
       "align_content": null,
       "align_items": null,
       "align_self": null,
       "border": null,
       "bottom": null,
       "display": null,
       "flex": null,
       "flex_flow": null,
       "grid_area": null,
       "grid_auto_columns": null,
       "grid_auto_flow": null,
       "grid_auto_rows": null,
       "grid_column": null,
       "grid_gap": null,
       "grid_row": null,
       "grid_template_areas": null,
       "grid_template_columns": null,
       "grid_template_rows": null,
       "height": null,
       "justify_content": null,
       "justify_items": null,
       "left": null,
       "margin": null,
       "max_height": null,
       "max_width": null,
       "min_height": null,
       "min_width": null,
       "object_fit": null,
       "object_position": null,
       "order": null,
       "overflow": null,
       "overflow_x": null,
       "overflow_y": null,
       "padding": null,
       "right": null,
       "top": null,
       "visibility": null,
       "width": null
      }
     },
     "c9e0fe05aeb143d5bfca3d126feee891": {
      "model_module": "@jupyter-widgets/base",
      "model_module_version": "1.2.0",
      "model_name": "LayoutModel",
      "state": {
       "_model_module": "@jupyter-widgets/base",
       "_model_module_version": "1.2.0",
       "_model_name": "LayoutModel",
       "_view_count": null,
       "_view_module": "@jupyter-widgets/base",
       "_view_module_version": "1.2.0",
       "_view_name": "LayoutView",
       "align_content": null,
       "align_items": null,
       "align_self": null,
       "border": null,
       "bottom": null,
       "display": null,
       "flex": null,
       "flex_flow": null,
       "grid_area": null,
       "grid_auto_columns": null,
       "grid_auto_flow": null,
       "grid_auto_rows": null,
       "grid_column": null,
       "grid_gap": null,
       "grid_row": null,
       "grid_template_areas": null,
       "grid_template_columns": null,
       "grid_template_rows": null,
       "height": null,
       "justify_content": null,
       "justify_items": null,
       "left": null,
       "margin": null,
       "max_height": null,
       "max_width": null,
       "min_height": null,
       "min_width": null,
       "object_fit": null,
       "object_position": null,
       "order": null,
       "overflow": null,
       "overflow_x": null,
       "overflow_y": null,
       "padding": null,
       "right": null,
       "top": null,
       "visibility": null,
       "width": null
      }
     },
     "cb1aec93c3f14446a30c454a1098d6fb": {
      "model_module": "@jupyter-widgets/base",
      "model_module_version": "1.2.0",
      "model_name": "LayoutModel",
      "state": {
       "_model_module": "@jupyter-widgets/base",
       "_model_module_version": "1.2.0",
       "_model_name": "LayoutModel",
       "_view_count": null,
       "_view_module": "@jupyter-widgets/base",
       "_view_module_version": "1.2.0",
       "_view_name": "LayoutView",
       "align_content": null,
       "align_items": null,
       "align_self": null,
       "border": null,
       "bottom": null,
       "display": null,
       "flex": null,
       "flex_flow": null,
       "grid_area": null,
       "grid_auto_columns": null,
       "grid_auto_flow": null,
       "grid_auto_rows": null,
       "grid_column": null,
       "grid_gap": null,
       "grid_row": null,
       "grid_template_areas": null,
       "grid_template_columns": null,
       "grid_template_rows": null,
       "height": null,
       "justify_content": null,
       "justify_items": null,
       "left": null,
       "margin": null,
       "max_height": null,
       "max_width": null,
       "min_height": null,
       "min_width": null,
       "object_fit": null,
       "object_position": null,
       "order": null,
       "overflow": null,
       "overflow_x": null,
       "overflow_y": null,
       "padding": null,
       "right": null,
       "top": null,
       "visibility": null,
       "width": null
      }
     },
     "ce212ea16b8e4b819efbce7c825ff7dc": {
      "model_module": "@jupyter-widgets/controls",
      "model_module_version": "1.5.0",
      "model_name": "FloatProgressModel",
      "state": {
       "_dom_classes": [],
       "_model_module": "@jupyter-widgets/controls",
       "_model_module_version": "1.5.0",
       "_model_name": "FloatProgressModel",
       "_view_count": null,
       "_view_module": "@jupyter-widgets/controls",
       "_view_module_version": "1.5.0",
       "_view_name": "ProgressView",
       "bar_style": "success",
       "description": "",
       "description_tooltip": null,
       "layout": "IPY_MODEL_1582d29ceb8a49af80ad2c20f01faceb",
       "max": 2464616.0,
       "min": 0.0,
       "orientation": "horizontal",
       "style": "IPY_MODEL_261b52d1c34c490f9439e15ae774aa87",
       "value": 2464616.0
      }
     },
     "cfd6dcbfc4254cac905d075372610503": {
      "model_module": "@jupyter-widgets/controls",
      "model_module_version": "1.5.0",
      "model_name": "DescriptionStyleModel",
      "state": {
       "_model_module": "@jupyter-widgets/controls",
       "_model_module_version": "1.5.0",
       "_model_name": "DescriptionStyleModel",
       "_view_count": null,
       "_view_module": "@jupyter-widgets/base",
       "_view_module_version": "1.2.0",
       "_view_name": "StyleView",
       "description_width": ""
      }
     },
     "d37ecda2f18d4a5ca6b3ad3ede8fde68": {
      "model_module": "@jupyter-widgets/controls",
      "model_module_version": "1.5.0",
      "model_name": "HTMLModel",
      "state": {
       "_dom_classes": [],
       "_model_module": "@jupyter-widgets/controls",
       "_model_module_version": "1.5.0",
       "_model_name": "HTMLModel",
       "_view_count": null,
       "_view_module": "@jupyter-widgets/controls",
       "_view_module_version": "1.5.0",
       "_view_name": "HTMLView",
       "description": "",
       "description_tooltip": null,
       "layout": "IPY_MODEL_26fe579f13984f85a30eaa111fb6bdfb",
       "placeholder": "​",
       "style": "IPY_MODEL_9d508549d9ee478983c7b1b61ecff6c9",
       "value": " 2.46M/2.46M [00:00&lt;00:00, 26.4MB/s]"
      }
     },
     "d52c6c02afa0435b952660d99904e278": {
      "model_module": "@jupyter-widgets/controls",
      "model_module_version": "1.5.0",
      "model_name": "HTMLModel",
      "state": {
       "_dom_classes": [],
       "_model_module": "@jupyter-widgets/controls",
       "_model_module_version": "1.5.0",
       "_model_name": "HTMLModel",
       "_view_count": null,
       "_view_module": "@jupyter-widgets/controls",
       "_view_module_version": "1.5.0",
       "_view_name": "HTMLView",
       "description": "",
       "description_tooltip": null,
       "layout": "IPY_MODEL_b0eaec64d871443d9d8a764e06233449",
       "placeholder": "​",
       "style": "IPY_MODEL_75d63d40368e4a8d9264746383a82748",
       "value": "Creating CSV from Arrow format: 100%"
      }
     },
     "db639d94b03746a585eee2a3e93a6971": {
      "model_module": "@jupyter-widgets/base",
      "model_module_version": "1.2.0",
      "model_name": "LayoutModel",
      "state": {
       "_model_module": "@jupyter-widgets/base",
       "_model_module_version": "1.2.0",
       "_model_name": "LayoutModel",
       "_view_count": null,
       "_view_module": "@jupyter-widgets/base",
       "_view_module_version": "1.2.0",
       "_view_name": "LayoutView",
       "align_content": null,
       "align_items": null,
       "align_self": null,
       "border": null,
       "bottom": null,
       "display": null,
       "flex": null,
       "flex_flow": null,
       "grid_area": null,
       "grid_auto_columns": null,
       "grid_auto_flow": null,
       "grid_auto_rows": null,
       "grid_column": null,
       "grid_gap": null,
       "grid_row": null,
       "grid_template_areas": null,
       "grid_template_columns": null,
       "grid_template_rows": null,
       "height": null,
       "justify_content": null,
       "justify_items": null,
       "left": null,
       "margin": null,
       "max_height": null,
       "max_width": null,
       "min_height": null,
       "min_width": null,
       "object_fit": null,
       "object_position": null,
       "order": null,
       "overflow": null,
       "overflow_x": null,
       "overflow_y": null,
       "padding": null,
       "right": null,
       "top": null,
       "visibility": null,
       "width": null
      }
     },
     "e61621f22d964dddb8418300f61d987b": {
      "model_module": "@jupyter-widgets/controls",
      "model_module_version": "1.5.0",
      "model_name": "DescriptionStyleModel",
      "state": {
       "_model_module": "@jupyter-widgets/controls",
       "_model_module_version": "1.5.0",
       "_model_name": "DescriptionStyleModel",
       "_view_count": null,
       "_view_module": "@jupyter-widgets/base",
       "_view_module_version": "1.2.0",
       "_view_name": "StyleView",
       "description_width": ""
      }
     },
     "ef9d22823fc34003a6c3165cb4eaf99a": {
      "model_module": "@jupyter-widgets/controls",
      "model_module_version": "1.5.0",
      "model_name": "FloatProgressModel",
      "state": {
       "_dom_classes": [],
       "_model_module": "@jupyter-widgets/controls",
       "_model_module_version": "1.5.0",
       "_model_name": "FloatProgressModel",
       "_view_count": null,
       "_view_module": "@jupyter-widgets/controls",
       "_view_module_version": "1.5.0",
       "_view_name": "ProgressView",
       "bar_style": "success",
       "description": "",
       "description_tooltip": null,
       "layout": "IPY_MODEL_c9e0fe05aeb143d5bfca3d126feee891",
       "max": 1.0,
       "min": 0.0,
       "orientation": "horizontal",
       "style": "IPY_MODEL_1118e6dac19247489acf33d6ee9bad9d",
       "value": 1.0
      }
     },
     "f7819d08e63e4b76a8aa891a3772a83b": {
      "model_module": "@jupyter-widgets/controls",
      "model_module_version": "1.5.0",
      "model_name": "FloatProgressModel",
      "state": {
       "_dom_classes": [],
       "_model_module": "@jupyter-widgets/controls",
       "_model_module_version": "1.5.0",
       "_model_name": "FloatProgressModel",
       "_view_count": null,
       "_view_module": "@jupyter-widgets/controls",
       "_view_module_version": "1.5.0",
       "_view_name": "ProgressView",
       "bar_style": "success",
       "description": "",
       "description_tooltip": null,
       "layout": "IPY_MODEL_9aa5b6ef18284cddbd7a58752d2156e2",
       "max": 36473.0,
       "min": 0.0,
       "orientation": "horizontal",
       "style": "IPY_MODEL_615e0a1b91dc4aa2a83537c855115c93",
       "value": 36473.0
      }
     },
     "f860c14e9373478284af84b06680d2d9": {
      "model_module": "@jupyter-widgets/controls",
      "model_module_version": "1.5.0",
      "model_name": "ProgressStyleModel",
      "state": {
       "_model_module": "@jupyter-widgets/controls",
       "_model_module_version": "1.5.0",
       "_model_name": "ProgressStyleModel",
       "_view_count": null,
       "_view_module": "@jupyter-widgets/base",
       "_view_module_version": "1.2.0",
       "_view_name": "StyleView",
       "bar_color": null,
       "description_width": ""
      }
     },
     "f8aaa95d9c4d43a2aa363aaef3ecbdc9": {
      "model_module": "@jupyter-widgets/controls",
      "model_module_version": "1.5.0",
      "model_name": "HTMLModel",
      "state": {
       "_dom_classes": [],
       "_model_module": "@jupyter-widgets/controls",
       "_model_module_version": "1.5.0",
       "_model_name": "HTMLModel",
       "_view_count": null,
       "_view_module": "@jupyter-widgets/controls",
       "_view_module_version": "1.5.0",
       "_view_name": "HTMLView",
       "description": "",
       "description_tooltip": null,
       "layout": "IPY_MODEL_822242a50ee3412e82d0dcc259f1f53f",
       "placeholder": "​",
       "style": "IPY_MODEL_8b9cd485e15a4fa4982fe8143705652f",
       "value": " 36/36 [00:00&lt;00:00, 1767.66 examples/s]"
      }
     },
     "fd6996be603744d6b218f67ba1e46629": {
      "model_module": "@jupyter-widgets/base",
      "model_module_version": "1.2.0",
      "model_name": "LayoutModel",
      "state": {
       "_model_module": "@jupyter-widgets/base",
       "_model_module_version": "1.2.0",
       "_model_name": "LayoutModel",
       "_view_count": null,
       "_view_module": "@jupyter-widgets/base",
       "_view_module_version": "1.2.0",
       "_view_name": "LayoutView",
       "align_content": null,
       "align_items": null,
       "align_self": null,
       "border": null,
       "bottom": null,
       "display": null,
       "flex": null,
       "flex_flow": null,
       "grid_area": null,
       "grid_auto_columns": null,
       "grid_auto_flow": null,
       "grid_auto_rows": null,
       "grid_column": null,
       "grid_gap": null,
       "grid_row": null,
       "grid_template_areas": null,
       "grid_template_columns": null,
       "grid_template_rows": null,
       "height": null,
       "justify_content": null,
       "justify_items": null,
       "left": null,
       "margin": null,
       "max_height": null,
       "max_width": null,
       "min_height": null,
       "min_width": null,
       "object_fit": null,
       "object_position": null,
       "order": null,
       "overflow": null,
       "overflow_x": null,
       "overflow_y": null,
       "padding": null,
       "right": null,
       "top": null,
       "visibility": null,
       "width": null
      }
     },
     "ff9c025653654256b5f2c15e900285f2": {
      "model_module": "@jupyter-widgets/controls",
      "model_module_version": "1.5.0",
      "model_name": "HBoxModel",
      "state": {
       "_dom_classes": [],
       "_model_module": "@jupyter-widgets/controls",
       "_model_module_version": "1.5.0",
       "_model_name": "HBoxModel",
       "_view_count": null,
       "_view_module": "@jupyter-widgets/controls",
       "_view_module_version": "1.5.0",
       "_view_name": "HBoxView",
       "box_style": "",
       "children": [
        "IPY_MODEL_d52c6c02afa0435b952660d99904e278",
        "IPY_MODEL_ef9d22823fc34003a6c3165cb4eaf99a",
        "IPY_MODEL_1eca1fbe21134fbe86441349391d36e8"
       ],
       "layout": "IPY_MODEL_0d047f505aa147f6a5a4c32c29501b4c"
      }
     }
    },
    "version_major": 2,
    "version_minor": 0
   }
  }
 },
 "nbformat": 4,
 "nbformat_minor": 5
}
